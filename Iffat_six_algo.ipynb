{
  "nbformat": 4,
  "nbformat_minor": 0,
  "metadata": {
    "colab": {
      "name": "Iffat_six_algo.ipynb",
      "provenance": [],
      "collapsed_sections": [],
      "include_colab_link": true
    },
    "kernelspec": {
      "display_name": "Python 3",
      "name": "python3"
    },
    "language_info": {
      "name": "python"
    }
  },
  "cells": [
    {
      "cell_type": "markdown",
      "metadata": {
        "id": "view-in-github",
        "colab_type": "text"
      },
      "source": [
        "<a href=\"https://colab.research.google.com/github/sanyhmahadi/ChildSentimentDetectionWith6Algorithms/blob/main/Iffat_six_algo.ipynb\" target=\"_parent\"><img src=\"https://colab.research.google.com/assets/colab-badge.svg\" alt=\"Open In Colab\"/></a>"
      ]
    },
    {
      "cell_type": "code",
      "metadata": {
        "id": "d_YF63rzd2v6",
        "colab": {
          "base_uri": "https://localhost:8080/",
          "height": 359
        },
        "outputId": "e6b39b16-a742-4351-c269-c0af197f779d"
      },
      "source": [
        "import pandas as pd\n",
        "df = pd.read_excel(\"/content/drive/MyDrive/research_more_trial/ChildSentimentAnalysis.xlsx\")\n",
        "df.head(10)"
      ],
      "execution_count": null,
      "outputs": [
        {
          "output_type": "execute_result",
          "data": {
            "text/html": [
              "<div>\n",
              "<style scoped>\n",
              "    .dataframe tbody tr th:only-of-type {\n",
              "        vertical-align: middle;\n",
              "    }\n",
              "\n",
              "    .dataframe tbody tr th {\n",
              "        vertical-align: top;\n",
              "    }\n",
              "\n",
              "    .dataframe thead th {\n",
              "        text-align: right;\n",
              "    }\n",
              "</style>\n",
              "<table border=\"1\" class=\"dataframe\">\n",
              "  <thead>\n",
              "    <tr style=\"text-align: right;\">\n",
              "      <th></th>\n",
              "      <th>Comment</th>\n",
              "      <th>Category</th>\n",
              "    </tr>\n",
              "  </thead>\n",
              "  <tbody>\n",
              "    <tr>\n",
              "      <th>0</th>\n",
              "      <td>শিশুবান্ধব নীতি শুধু শিশুদের জন্যই ভালো নয়, তা...</td>\n",
              "      <td>neutral</td>\n",
              "    </tr>\n",
              "    <tr>\n",
              "      <th>1</th>\n",
              "      <td>কাউকে মিথ্যা বলবেন না</td>\n",
              "      <td>positive</td>\n",
              "    </tr>\n",
              "    <tr>\n",
              "      <th>2</th>\n",
              "      <td>বিশ্বের বৃহত্তম শরণার্থী বসতিগুলোর মধ্যে অন্যত...</td>\n",
              "      <td>positive</td>\n",
              "    </tr>\n",
              "    <tr>\n",
              "      <th>3</th>\n",
              "      <td>অনেক শিশু তাদের শিক্ষণ কেন্দ্রগুলোকে পুড়ে ছাই ...</td>\n",
              "      <td>negative</td>\n",
              "    </tr>\n",
              "    <tr>\n",
              "      <th>4</th>\n",
              "      <td>হারিয়ে যাওয়া শিশুদের আশ্রয় দেওয়া মহৎ কাজ</td>\n",
              "      <td>positive</td>\n",
              "    </tr>\n",
              "    <tr>\n",
              "      <th>5</th>\n",
              "      <td>দুর্যোগে ক্ষতিগ্রস্ত সকল রোহিঙ্গা শিশু এবং পরি...</td>\n",
              "      <td>positive</td>\n",
              "    </tr>\n",
              "    <tr>\n",
              "      <th>6</th>\n",
              "      <td>কোভিড -১৯ এর বিস্তারের ফলে দেশব্যাপী মাতৃ এবং ...</td>\n",
              "      <td>negative</td>\n",
              "    </tr>\n",
              "    <tr>\n",
              "      <th>7</th>\n",
              "      <td>বাংলাদেশের পাঁচটি দরিদ্রতম জেলার একটি হিসাবে ভ...</td>\n",
              "      <td>negative</td>\n",
              "    </tr>\n",
              "    <tr>\n",
              "      <th>8</th>\n",
              "      <td>শিশুদের অক্সিজেন থেরাপির প্রয়োজন রয়েছে এমন জট...</td>\n",
              "      <td>positive</td>\n",
              "    </tr>\n",
              "    <tr>\n",
              "      <th>9</th>\n",
              "      <td>স্বাস্থ্যসেবার ক্ষে্ত্রে যে গুরুতর সমস্যা রয়েছ...</td>\n",
              "      <td>positive</td>\n",
              "    </tr>\n",
              "  </tbody>\n",
              "</table>\n",
              "</div>"
            ],
            "text/plain": [
              "                                             Comment  Category\n",
              "0  শিশুবান্ধব নীতি শুধু শিশুদের জন্যই ভালো নয়, তা...   neutral\n",
              "1                              কাউকে মিথ্যা বলবেন না  positive\n",
              "2  বিশ্বের বৃহত্তম শরণার্থী বসতিগুলোর মধ্যে অন্যত...  positive\n",
              "3  অনেক শিশু তাদের শিক্ষণ কেন্দ্রগুলোকে পুড়ে ছাই ...  negative\n",
              "4         হারিয়ে যাওয়া শিশুদের আশ্রয় দেওয়া মহৎ কাজ  positive\n",
              "5  দুর্যোগে ক্ষতিগ্রস্ত সকল রোহিঙ্গা শিশু এবং পরি...  positive\n",
              "6  কোভিড -১৯ এর বিস্তারের ফলে দেশব্যাপী মাতৃ এবং ...  negative\n",
              "7  বাংলাদেশের পাঁচটি দরিদ্রতম জেলার একটি হিসাবে ভ...  negative\n",
              "8  শিশুদের অক্সিজেন থেরাপির প্রয়োজন রয়েছে এমন জট...  positive\n",
              "9  স্বাস্থ্যসেবার ক্ষে্ত্রে যে গুরুতর সমস্যা রয়েছ...  positive"
            ]
          },
          "metadata": {
            "tags": []
          },
          "execution_count": 4
        }
      ]
    },
    {
      "cell_type": "code",
      "metadata": {
        "colab": {
          "base_uri": "https://localhost:8080/"
        },
        "id": "DoYggFgSuMKo",
        "outputId": "858e6230-8639-42a3-c416-a3b080d598a1"
      },
      "source": [
        "from google.colab import drive\n",
        "drive.mount('/content/drive')"
      ],
      "execution_count": null,
      "outputs": [
        {
          "output_type": "stream",
          "text": [
            "Drive already mounted at /content/drive; to attempt to forcibly remount, call drive.mount(\"/content/drive\", force_remount=True).\n"
          ],
          "name": "stdout"
        }
      ]
    },
    {
      "cell_type": "code",
      "metadata": {
        "colab": {
          "base_uri": "https://localhost:8080/"
        },
        "id": "u-8UB2zJhl2m",
        "outputId": "03956ef8-3140-4530-f19e-709739ed223d"
      },
      "source": [
        "df.shape"
      ],
      "execution_count": null,
      "outputs": [
        {
          "output_type": "execute_result",
          "data": {
            "text/plain": [
              "(1000, 2)"
            ]
          },
          "metadata": {
            "tags": []
          },
          "execution_count": 6
        }
      ]
    },
    {
      "cell_type": "markdown",
      "metadata": {
        "id": "D18aaZjInNcX"
      },
      "source": [
        "**Normalizing and simple Preprocessing**"
      ]
    },
    {
      "cell_type": "code",
      "metadata": {
        "id": "UY2c7IaOpENi"
      },
      "source": [
        "df['Comment'] = df['Comment'].fillna(\"কাউকে মিথ্যা বলবেন না\")"
      ],
      "execution_count": null,
      "outputs": []
    },
    {
      "cell_type": "code",
      "metadata": {
        "id": "-TormvtaqGCM"
      },
      "source": [
        "df['Category'] = df['Category'].fillna(1)"
      ],
      "execution_count": null,
      "outputs": []
    },
    {
      "cell_type": "code",
      "metadata": {
        "colab": {
          "base_uri": "https://localhost:8080/",
          "height": 359
        },
        "id": "a1zcgZqWaPFR",
        "outputId": "a81ea017-1d64-4fb3-9e32-ebe60d12abd1"
      },
      "source": [
        "df.head(10)"
      ],
      "execution_count": null,
      "outputs": [
        {
          "output_type": "execute_result",
          "data": {
            "text/html": [
              "<div>\n",
              "<style scoped>\n",
              "    .dataframe tbody tr th:only-of-type {\n",
              "        vertical-align: middle;\n",
              "    }\n",
              "\n",
              "    .dataframe tbody tr th {\n",
              "        vertical-align: top;\n",
              "    }\n",
              "\n",
              "    .dataframe thead th {\n",
              "        text-align: right;\n",
              "    }\n",
              "</style>\n",
              "<table border=\"1\" class=\"dataframe\">\n",
              "  <thead>\n",
              "    <tr style=\"text-align: right;\">\n",
              "      <th></th>\n",
              "      <th>Comment</th>\n",
              "      <th>Category</th>\n",
              "    </tr>\n",
              "  </thead>\n",
              "  <tbody>\n",
              "    <tr>\n",
              "      <th>0</th>\n",
              "      <td>শিশুবান্ধব নীতি শুধু শিশুদের জন্যই ভালো নয়, তা...</td>\n",
              "      <td>neutral</td>\n",
              "    </tr>\n",
              "    <tr>\n",
              "      <th>1</th>\n",
              "      <td>কাউকে মিথ্যা বলবেন না</td>\n",
              "      <td>positive</td>\n",
              "    </tr>\n",
              "    <tr>\n",
              "      <th>2</th>\n",
              "      <td>বিশ্বের বৃহত্তম শরণার্থী বসতিগুলোর মধ্যে অন্যত...</td>\n",
              "      <td>positive</td>\n",
              "    </tr>\n",
              "    <tr>\n",
              "      <th>3</th>\n",
              "      <td>অনেক শিশু তাদের শিক্ষণ কেন্দ্রগুলোকে পুড়ে ছাই ...</td>\n",
              "      <td>negative</td>\n",
              "    </tr>\n",
              "    <tr>\n",
              "      <th>4</th>\n",
              "      <td>হারিয়ে যাওয়া শিশুদের আশ্রয় দেওয়া মহৎ কাজ</td>\n",
              "      <td>positive</td>\n",
              "    </tr>\n",
              "    <tr>\n",
              "      <th>5</th>\n",
              "      <td>দুর্যোগে ক্ষতিগ্রস্ত সকল রোহিঙ্গা শিশু এবং পরি...</td>\n",
              "      <td>positive</td>\n",
              "    </tr>\n",
              "    <tr>\n",
              "      <th>6</th>\n",
              "      <td>কোভিড -১৯ এর বিস্তারের ফলে দেশব্যাপী মাতৃ এবং ...</td>\n",
              "      <td>negative</td>\n",
              "    </tr>\n",
              "    <tr>\n",
              "      <th>7</th>\n",
              "      <td>বাংলাদেশের পাঁচটি দরিদ্রতম জেলার একটি হিসাবে ভ...</td>\n",
              "      <td>negative</td>\n",
              "    </tr>\n",
              "    <tr>\n",
              "      <th>8</th>\n",
              "      <td>শিশুদের অক্সিজেন থেরাপির প্রয়োজন রয়েছে এমন জট...</td>\n",
              "      <td>positive</td>\n",
              "    </tr>\n",
              "    <tr>\n",
              "      <th>9</th>\n",
              "      <td>স্বাস্থ্যসেবার ক্ষে্ত্রে যে গুরুতর সমস্যা রয়েছ...</td>\n",
              "      <td>positive</td>\n",
              "    </tr>\n",
              "  </tbody>\n",
              "</table>\n",
              "</div>"
            ],
            "text/plain": [
              "                                             Comment  Category\n",
              "0  শিশুবান্ধব নীতি শুধু শিশুদের জন্যই ভালো নয়, তা...   neutral\n",
              "1                              কাউকে মিথ্যা বলবেন না  positive\n",
              "2  বিশ্বের বৃহত্তম শরণার্থী বসতিগুলোর মধ্যে অন্যত...  positive\n",
              "3  অনেক শিশু তাদের শিক্ষণ কেন্দ্রগুলোকে পুড়ে ছাই ...  negative\n",
              "4         হারিয়ে যাওয়া শিশুদের আশ্রয় দেওয়া মহৎ কাজ  positive\n",
              "5  দুর্যোগে ক্ষতিগ্রস্ত সকল রোহিঙ্গা শিশু এবং পরি...  positive\n",
              "6  কোভিড -১৯ এর বিস্তারের ফলে দেশব্যাপী মাতৃ এবং ...  negative\n",
              "7  বাংলাদেশের পাঁচটি দরিদ্রতম জেলার একটি হিসাবে ভ...  negative\n",
              "8  শিশুদের অক্সিজেন থেরাপির প্রয়োজন রয়েছে এমন জট...  positive\n",
              "9  স্বাস্থ্যসেবার ক্ষে্ত্রে যে গুরুতর সমস্যা রয়েছ...  positive"
            ]
          },
          "metadata": {
            "tags": []
          },
          "execution_count": 9
        }
      ]
    },
    {
      "cell_type": "code",
      "metadata": {
        "colab": {
          "base_uri": "https://localhost:8080/"
        },
        "id": "6EBFFg_2hl4z",
        "outputId": "6508e779-22e7-4f99-c7bf-ed5a99871867"
      },
      "source": [
        "df.isnull().sum()"
      ],
      "execution_count": null,
      "outputs": [
        {
          "output_type": "execute_result",
          "data": {
            "text/plain": [
              "Comment     0\n",
              "Category    0\n",
              "dtype: int64"
            ]
          },
          "metadata": {
            "tags": []
          },
          "execution_count": 10
        }
      ]
    },
    {
      "cell_type": "code",
      "metadata": {
        "colab": {
          "base_uri": "https://localhost:8080/",
          "height": 419
        },
        "id": "qi6LTcsfxY3l",
        "outputId": "abfed093-08e5-4b6e-94f3-3f7b3b20148c"
      },
      "source": [
        "df.dropna()"
      ],
      "execution_count": null,
      "outputs": [
        {
          "output_type": "execute_result",
          "data": {
            "text/html": [
              "<div>\n",
              "<style scoped>\n",
              "    .dataframe tbody tr th:only-of-type {\n",
              "        vertical-align: middle;\n",
              "    }\n",
              "\n",
              "    .dataframe tbody tr th {\n",
              "        vertical-align: top;\n",
              "    }\n",
              "\n",
              "    .dataframe thead th {\n",
              "        text-align: right;\n",
              "    }\n",
              "</style>\n",
              "<table border=\"1\" class=\"dataframe\">\n",
              "  <thead>\n",
              "    <tr style=\"text-align: right;\">\n",
              "      <th></th>\n",
              "      <th>Comment</th>\n",
              "      <th>Category</th>\n",
              "    </tr>\n",
              "  </thead>\n",
              "  <tbody>\n",
              "    <tr>\n",
              "      <th>0</th>\n",
              "      <td>শিশুবান্ধব নীতি শুধু শিশুদের জন্যই ভালো নয়, তা...</td>\n",
              "      <td>neutral</td>\n",
              "    </tr>\n",
              "    <tr>\n",
              "      <th>1</th>\n",
              "      <td>কাউকে মিথ্যা বলবেন না</td>\n",
              "      <td>positive</td>\n",
              "    </tr>\n",
              "    <tr>\n",
              "      <th>2</th>\n",
              "      <td>বিশ্বের বৃহত্তম শরণার্থী বসতিগুলোর মধ্যে অন্যত...</td>\n",
              "      <td>positive</td>\n",
              "    </tr>\n",
              "    <tr>\n",
              "      <th>3</th>\n",
              "      <td>অনেক শিশু তাদের শিক্ষণ কেন্দ্রগুলোকে পুড়ে ছাই ...</td>\n",
              "      <td>negative</td>\n",
              "    </tr>\n",
              "    <tr>\n",
              "      <th>4</th>\n",
              "      <td>হারিয়ে যাওয়া শিশুদের আশ্রয় দেওয়া মহৎ কাজ</td>\n",
              "      <td>positive</td>\n",
              "    </tr>\n",
              "    <tr>\n",
              "      <th>...</th>\n",
              "      <td>...</td>\n",
              "      <td>...</td>\n",
              "    </tr>\n",
              "    <tr>\n",
              "      <th>995</th>\n",
              "      <td>মানুষ লক্ষ্যপূরণের জন্য লড়াই করে, লক্ষ্যহীন মা...</td>\n",
              "      <td>neutral</td>\n",
              "    </tr>\n",
              "    <tr>\n",
              "      <th>996</th>\n",
              "      <td>পথ পেরোলে ক্লান্তি আসে, কাঁধের কাছটা ব্যাথাও হ...</td>\n",
              "      <td>neutral</td>\n",
              "    </tr>\n",
              "    <tr>\n",
              "      <th>997</th>\n",
              "      <td>বাংলাদেশের মাধ্যমিক শিক্ষার অগ্রগতি ও প্রগতিশী...</td>\n",
              "      <td>neutral</td>\n",
              "    </tr>\n",
              "    <tr>\n",
              "      <th>998</th>\n",
              "      <td>বিনা যুদ্ধে নাহি দিব সূচ্যগ্র মেদিনী</td>\n",
              "      <td>neutral</td>\n",
              "    </tr>\n",
              "    <tr>\n",
              "      <th>999</th>\n",
              "      <td>ক্ষুদ্রের গৌরব ক্ষুদ্র মানুষেরা স্বীকার করে না</td>\n",
              "      <td>neutral</td>\n",
              "    </tr>\n",
              "  </tbody>\n",
              "</table>\n",
              "<p>1000 rows × 2 columns</p>\n",
              "</div>"
            ],
            "text/plain": [
              "                                               Comment  Category\n",
              "0    শিশুবান্ধব নীতি শুধু শিশুদের জন্যই ভালো নয়, তা...   neutral\n",
              "1                                কাউকে মিথ্যা বলবেন না  positive\n",
              "2    বিশ্বের বৃহত্তম শরণার্থী বসতিগুলোর মধ্যে অন্যত...  positive\n",
              "3    অনেক শিশু তাদের শিক্ষণ কেন্দ্রগুলোকে পুড়ে ছাই ...  negative\n",
              "4           হারিয়ে যাওয়া শিশুদের আশ্রয় দেওয়া মহৎ কাজ  positive\n",
              "..                                                 ...       ...\n",
              "995  মানুষ লক্ষ্যপূরণের জন্য লড়াই করে, লক্ষ্যহীন মা...   neutral\n",
              "996  পথ পেরোলে ক্লান্তি আসে, কাঁধের কাছটা ব্যাথাও হ...   neutral\n",
              "997  বাংলাদেশের মাধ্যমিক শিক্ষার অগ্রগতি ও প্রগতিশী...   neutral\n",
              "998               বিনা যুদ্ধে নাহি দিব সূচ্যগ্র মেদিনী   neutral\n",
              "999     ক্ষুদ্রের গৌরব ক্ষুদ্র মানুষেরা স্বীকার করে না   neutral\n",
              "\n",
              "[1000 rows x 2 columns]"
            ]
          },
          "metadata": {
            "tags": []
          },
          "execution_count": 11
        }
      ]
    },
    {
      "cell_type": "code",
      "metadata": {
        "colab": {
          "base_uri": "https://localhost:8080/"
        },
        "id": "a7_cOLfQwtVj",
        "outputId": "698f94e3-0287-45db-9947-0a2cb9d5e5d7"
      },
      "source": [
        "len(df[df.Category=='positive'])"
      ],
      "execution_count": null,
      "outputs": [
        {
          "output_type": "execute_result",
          "data": {
            "text/plain": [
              "333"
            ]
          },
          "metadata": {
            "tags": []
          },
          "execution_count": 12
        }
      ]
    },
    {
      "cell_type": "code",
      "metadata": {
        "colab": {
          "base_uri": "https://localhost:8080/"
        },
        "id": "zPbj1VJFw888",
        "outputId": "1b1cf496-7dc7-41a7-a1f7-24c0d1115faf"
      },
      "source": [
        "len(df[df.Category=='neutral'])"
      ],
      "execution_count": null,
      "outputs": [
        {
          "output_type": "execute_result",
          "data": {
            "text/plain": [
              "333"
            ]
          },
          "metadata": {
            "tags": []
          },
          "execution_count": 13
        }
      ]
    },
    {
      "cell_type": "code",
      "metadata": {
        "colab": {
          "base_uri": "https://localhost:8080/"
        },
        "id": "rZOQt15cw8_z",
        "outputId": "396804c0-7ee6-4340-d733-94ceee7a0fa8"
      },
      "source": [
        "len(df[df.Category=='negative'])"
      ],
      "execution_count": null,
      "outputs": [
        {
          "output_type": "execute_result",
          "data": {
            "text/plain": [
              "333"
            ]
          },
          "metadata": {
            "tags": []
          },
          "execution_count": 14
        }
      ]
    },
    {
      "cell_type": "code",
      "metadata": {
        "id": "rnpLCT8xiWu9"
      },
      "source": [
        "df.Category = df.Category.replace({'negative': 1, 'positive': 0,'neutral': 2})"
      ],
      "execution_count": null,
      "outputs": []
    },
    {
      "cell_type": "code",
      "metadata": {
        "id": "Q7SnYLjLywqp"
      },
      "source": [
        "df.Category=pd.to_numeric(df.Category)"
      ],
      "execution_count": null,
      "outputs": []
    },
    {
      "cell_type": "markdown",
      "metadata": {
        "id": "aMltcMlanWZ0"
      },
      "source": [
        "**Data Visualization**"
      ]
    },
    {
      "cell_type": "code",
      "metadata": {
        "colab": {
          "base_uri": "https://localhost:8080/"
        },
        "id": "Ipt5QXRMiW2K",
        "outputId": "c6b5a4e8-34f3-4f98-b2d5-e1f750950186"
      },
      "source": [
        "for i in range(5):\n",
        "  print(\"Comment:\",i+1)\n",
        "  print(\"Details:\",df.Comment[i])"
      ],
      "execution_count": null,
      "outputs": [
        {
          "output_type": "stream",
          "text": [
            "Comment: 1\n",
            "Details: শিশুবান্ধব নীতি শুধু শিশুদের জন্যই ভালো নয়, তা ব্যবসার জন্যও ভালো\n",
            "Comment: 2\n",
            "Details: কাউকে মিথ্যা বলবেন না\n",
            "Comment: 3\n",
            "Details: বিশ্বের বৃহত্তম শরণার্থী বসতিগুলোর মধ্যে অন্যতম বাংলাদেশের রোহিঙ্গা শরনার্থীদের আশ্রয়শিবিরে বিপর্যয়কর অগ্নিকাণ্ডে সহায়তা দিতে ইউনিসেফ এবং এর সহযোগীরা প্রচুর পরিমাণে ত্রাণ সহায়তা কার্যক্রম চালাচ্ছে\n",
            "Comment: 4\n",
            "Details: অনেক শিশু তাদের শিক্ষণ কেন্দ্রগুলোকে পুড়ে ছাই হয়ে যেতে দেখেছে।\n",
            "Comment: 5\n",
            "Details: হারিয়ে যাওয়া শিশুদের আশ্রয় দেওয়া মহৎ কাজ\n"
          ],
          "name": "stdout"
        }
      ]
    },
    {
      "cell_type": "code",
      "metadata": {
        "id": "F1tw5qwuiW4Q"
      },
      "source": [
        "import matplotlib.pyplot as plt\n",
        "\n",
        "import seaborn as sns\n",
        "\n",
        "%matplotlib inline"
      ],
      "execution_count": null,
      "outputs": []
    },
    {
      "cell_type": "code",
      "metadata": {
        "colab": {
          "base_uri": "https://localhost:8080/",
          "height": 286
        },
        "id": "P6dGx1sLiW6g",
        "outputId": "d2d9c62d-9d5f-4049-c9f1-c98bc146b2e0"
      },
      "source": [
        "df['Category'].plot(kind='hist')"
      ],
      "execution_count": null,
      "outputs": [
        {
          "output_type": "execute_result",
          "data": {
            "text/plain": [
              "<matplotlib.axes._subplots.AxesSubplot at 0x7fdeafa07f10>"
            ]
          },
          "metadata": {
            "tags": []
          },
          "execution_count": 19
        },
        {
          "output_type": "display_data",
          "data": {
            "image/png": "[encoded data removed]",
            "text/plain": [
              "<Figure size 432x288 with 1 Axes>"
            ]
          },
          "metadata": {
            "tags": [],
            "needs_background": "light"
          }
        }
      ]
    },
    {
      "cell_type": "code",
      "metadata": {
        "colab": {
          "base_uri": "https://localhost:8080/",
          "height": 359
        },
        "id": "NNWM6YFKstMP",
        "outputId": "248a4dc1-a0bb-46d6-ba3d-013cc4bbcdbf"
      },
      "source": [
        "df['length'] = df['Comment'].str.split().apply(len)\n",
        "df.head(10)"
      ],
      "execution_count": null,
      "outputs": [
        {
          "output_type": "execute_result",
          "data": {
            "text/html": [
              "<div>\n",
              "<style scoped>\n",
              "    .dataframe tbody tr th:only-of-type {\n",
              "        vertical-align: middle;\n",
              "    }\n",
              "\n",
              "    .dataframe tbody tr th {\n",
              "        vertical-align: top;\n",
              "    }\n",
              "\n",
              "    .dataframe thead th {\n",
              "        text-align: right;\n",
              "    }\n",
              "</style>\n",
              "<table border=\"1\" class=\"dataframe\">\n",
              "  <thead>\n",
              "    <tr style=\"text-align: right;\">\n",
              "      <th></th>\n",
              "      <th>Comment</th>\n",
              "      <th>Category</th>\n",
              "      <th>length</th>\n",
              "    </tr>\n",
              "  </thead>\n",
              "  <tbody>\n",
              "    <tr>\n",
              "      <th>0</th>\n",
              "      <td>শিশুবান্ধব নীতি শুধু শিশুদের জন্যই ভালো নয়, তা...</td>\n",
              "      <td>2</td>\n",
              "      <td>11</td>\n",
              "    </tr>\n",
              "    <tr>\n",
              "      <th>1</th>\n",
              "      <td>কাউকে মিথ্যা বলবেন না</td>\n",
              "      <td>0</td>\n",
              "      <td>4</td>\n",
              "    </tr>\n",
              "    <tr>\n",
              "      <th>2</th>\n",
              "      <td>বিশ্বের বৃহত্তম শরণার্থী বসতিগুলোর মধ্যে অন্যত...</td>\n",
              "      <td>0</td>\n",
              "      <td>24</td>\n",
              "    </tr>\n",
              "    <tr>\n",
              "      <th>3</th>\n",
              "      <td>অনেক শিশু তাদের শিক্ষণ কেন্দ্রগুলোকে পুড়ে ছাই ...</td>\n",
              "      <td>1</td>\n",
              "      <td>10</td>\n",
              "    </tr>\n",
              "    <tr>\n",
              "      <th>4</th>\n",
              "      <td>হারিয়ে যাওয়া শিশুদের আশ্রয় দেওয়া মহৎ কাজ</td>\n",
              "      <td>0</td>\n",
              "      <td>7</td>\n",
              "    </tr>\n",
              "    <tr>\n",
              "      <th>5</th>\n",
              "      <td>দুর্যোগে ক্ষতিগ্রস্ত সকল রোহিঙ্গা শিশু এবং পরি...</td>\n",
              "      <td>0</td>\n",
              "      <td>12</td>\n",
              "    </tr>\n",
              "    <tr>\n",
              "      <th>6</th>\n",
              "      <td>কোভিড -১৯ এর বিস্তারের ফলে দেশব্যাপী মাতৃ এবং ...</td>\n",
              "      <td>1</td>\n",
              "      <td>20</td>\n",
              "    </tr>\n",
              "    <tr>\n",
              "      <th>7</th>\n",
              "      <td>বাংলাদেশের পাঁচটি দরিদ্রতম জেলার একটি হিসাবে ভ...</td>\n",
              "      <td>1</td>\n",
              "      <td>10</td>\n",
              "    </tr>\n",
              "    <tr>\n",
              "      <th>8</th>\n",
              "      <td>শিশুদের অক্সিজেন থেরাপির প্রয়োজন রয়েছে এমন জট...</td>\n",
              "      <td>0</td>\n",
              "      <td>22</td>\n",
              "    </tr>\n",
              "    <tr>\n",
              "      <th>9</th>\n",
              "      <td>স্বাস্থ্যসেবার ক্ষে্ত্রে যে গুরুতর সমস্যা রয়েছ...</td>\n",
              "      <td>0</td>\n",
              "      <td>15</td>\n",
              "    </tr>\n",
              "  </tbody>\n",
              "</table>\n",
              "</div>"
            ],
            "text/plain": [
              "                                             Comment  Category  length\n",
              "0  শিশুবান্ধব নীতি শুধু শিশুদের জন্যই ভালো নয়, তা...         2      11\n",
              "1                              কাউকে মিথ্যা বলবেন না         0       4\n",
              "2  বিশ্বের বৃহত্তম শরণার্থী বসতিগুলোর মধ্যে অন্যত...         0      24\n",
              "3  অনেক শিশু তাদের শিক্ষণ কেন্দ্রগুলোকে পুড়ে ছাই ...         1      10\n",
              "4         হারিয়ে যাওয়া শিশুদের আশ্রয় দেওয়া মহৎ কাজ         0       7\n",
              "5  দুর্যোগে ক্ষতিগ্রস্ত সকল রোহিঙ্গা শিশু এবং পরি...         0      12\n",
              "6  কোভিড -১৯ এর বিস্তারের ফলে দেশব্যাপী মাতৃ এবং ...         1      20\n",
              "7  বাংলাদেশের পাঁচটি দরিদ্রতম জেলার একটি হিসাবে ভ...         1      10\n",
              "8  শিশুদের অক্সিজেন থেরাপির প্রয়োজন রয়েছে এমন জট...         0      22\n",
              "9  স্বাস্থ্যসেবার ক্ষে্ত্রে যে গুরুতর সমস্যা রয়েছ...         0      15"
            ]
          },
          "metadata": {
            "tags": []
          },
          "execution_count": 20
        }
      ]
    },
    {
      "cell_type": "code",
      "metadata": {
        "colab": {
          "base_uri": "https://localhost:8080/",
          "height": 422
        },
        "id": "Ts_vS-HastOe",
        "outputId": "71d90f8d-1d09-412a-9a5e-ce65fa8310ce"
      },
      "source": [
        "df.hist(column='length', by = 'Category',bins = 450, figsize=(10,5))"
      ],
      "execution_count": null,
      "outputs": [
        {
          "output_type": "execute_result",
          "data": {
            "text/plain": [
              "array([[<matplotlib.axes._subplots.AxesSubplot object at 0x7fdeaf1a1890>,\n",
              "        <matplotlib.axes._subplots.AxesSubplot object at 0x7fdebe6d6750>],\n",
              "       [<matplotlib.axes._subplots.AxesSubplot object at 0x7fdebe7f4e10>,\n",
              "        <matplotlib.axes._subplots.AxesSubplot object at 0x7fdebe78f090>]],\n",
              "      dtype=object)"
            ]
          },
          "metadata": {
            "tags": []
          },
          "execution_count": 21
        },
        {
          "output_type": "display_data",
          "data": {
            "image/png": "[encoded data removed]",
            "text/plain": [
              "<Figure size 720x360 with 4 Axes>"
            ]
          },
          "metadata": {
            "tags": [],
            "needs_background": "light"
          }
        }
      ]
    },
    {
      "cell_type": "code",
      "metadata": {
        "colab": {
          "base_uri": "https://localhost:8080/"
        },
        "id": "nQVikrQnstQi",
        "outputId": "73b4bf6e-a660-4e2e-a5ea-a6c3b15958c5"
      },
      "source": [
        "df.length.describe()"
      ],
      "execution_count": null,
      "outputs": [
        {
          "output_type": "execute_result",
          "data": {
            "text/plain": [
              "count    1000.000000\n",
              "mean       11.200000\n",
              "std         5.423783\n",
              "min         2.000000\n",
              "25%         7.000000\n",
              "50%        10.000000\n",
              "75%        14.000000\n",
              "max        40.000000\n",
              "Name: length, dtype: float64"
            ]
          },
          "metadata": {
            "tags": []
          },
          "execution_count": 22
        }
      ]
    },
    {
      "cell_type": "markdown",
      "metadata": {
        "id": "c-lIizdIm9Fk"
      },
      "source": [
        "**Preprocessing Part**"
      ]
    },
    {
      "cell_type": "code",
      "metadata": {
        "id": "9_md-l4WstTP"
      },
      "source": [
        "import string\n",
        "def remove_punc(s):\n",
        "  table = str.maketrans({key: None for key in string.punctuation})\n",
        "  return s.translate(table)"
      ],
      "execution_count": null,
      "outputs": []
    },
    {
      "cell_type": "code",
      "metadata": {
        "colab": {
          "base_uri": "https://localhost:8080/"
        },
        "id": "nlILFG51tUZg",
        "outputId": "327bfd70-f2e0-4808-804a-9e67ebc066c9"
      },
      "source": [
        "x = df['Comment'].fillna(' ')\n",
        "y = df['Category']\n",
        "print(x.head())\n",
        "print(y.head())"
      ],
      "execution_count": null,
      "outputs": [
        {
          "output_type": "stream",
          "text": [
            "0    শিশুবান্ধব নীতি শুধু শিশুদের জন্যই ভালো নয়, তা...\n",
            "1                                কাউকে মিথ্যা বলবেন না\n",
            "2    বিশ্বের বৃহত্তম শরণার্থী বসতিগুলোর মধ্যে অন্যত...\n",
            "3    অনেক শিশু তাদের শিক্ষণ কেন্দ্রগুলোকে পুড়ে ছাই ...\n",
            "4           হারিয়ে যাওয়া শিশুদের আশ্রয় দেওয়া মহৎ কাজ\n",
            "Name: Comment, dtype: object\n",
            "0    2\n",
            "1    0\n",
            "2    0\n",
            "3    1\n",
            "4    0\n",
            "Name: Category, dtype: int64\n"
          ],
          "name": "stdout"
        }
      ]
    },
    {
      "cell_type": "code",
      "metadata": {
        "colab": {
          "base_uri": "https://localhost:8080/"
        },
        "id": "_SXoB1o4tUbx",
        "outputId": "be98580f-f45e-4da1-b5a0-2512560586e5"
      },
      "source": [
        "x = df['Comment'].apply(remove_punc)\n",
        "x.shape"
      ],
      "execution_count": null,
      "outputs": [
        {
          "output_type": "execute_result",
          "data": {
            "text/plain": [
              "(1000,)"
            ]
          },
          "metadata": {
            "tags": []
          },
          "execution_count": 25
        }
      ]
    },
    {
      "cell_type": "code",
      "metadata": {
        "id": "flqzKocRtUeM"
      },
      "source": [
        "contractions = { \n",
        "\"বি.দ্র \": \"বিশেষ দ্রষ্টব্য\",\n",
        "\"ড.\": \"ডক্টর\",\n",
        "\"ডা.\": \"ডাক্তার\",\n",
        "\"ইঞ্জি:\": \"ইঞ্জিনিয়ার\",\n",
        "\"রেজি:\": \"রেজিস্ট্রেশন\",\n",
        "\"মি.\": \"মিস্টার\",\n",
        "\"মু.\": \"মুহাম্মদ\",\n",
        "\"মো.\": \"মোহাম্মদ\",\n",
        "}"
      ],
      "execution_count": null,
      "outputs": []
    },
    {
      "cell_type": "code",
      "metadata": {
        "id": "kZSCRViHtl5y"
      },
      "source": [
        " import string\n",
        " import re\n",
        " def clean_text(text,remove_stopwords = False):\n",
        "     if True:\n",
        "         text = text.split()\n",
        "         new_text = []\n",
        "         for word in text:\n",
        "             if word in contractions:\n",
        "                 new_text.append(contractions[word])\n",
        "             else:\n",
        "                 new_text.append(word)\n",
        "         text = \" \".join(new_text)\n",
        "     # Format words and remove unwanted characters\n",
        "     whitespace = re.compile(u\"[\\s\\u0020\\u00a0\\u1680\\u180e\\u202f\\u205f\\u3000\\u2000-\\u200a]+\", re.UNICODE)\n",
        "     bangla_digits = u\"[\\u09E6\\u09E7\\u09E8\\u09E9\\u09EA\\u09EB\\u09EC\\u09ED\\u09EE\\u09EF]+\"\n",
        "     english_chars = u\"[a-zA-Z0-9]\"\n",
        "     punc = u\"[(),$%^&*+={}\\[\\]:\\\"|\\'\\~`<>/,¦!?½£¶¼©⅐⅑⅒⅓⅔⅕⅖⅗⅘⅙⅚⅛⅜⅝⅞⅟↉¤¿º;-]+\"\n",
        "     bangla_fullstop = u\"\\u0964\"     #bangla fullstop(dari)\n",
        "    \n",
        "     punctSeq   = u\"['\\\"“”‘’]+|[.?!,…]+|[:;]+\"\n",
        "    \n",
        "     text = re.sub(bangla_digits, \" \", text)\n",
        "     text = re.sub(punc, \" \", text)\n",
        "     text = re.sub(english_chars, \" \", text)\n",
        "     text = re.sub(bangla_fullstop, \" \", text)\n",
        "     text = re.sub(punctSeq, \" \", text)\n",
        "     text = whitespace.sub(\" \", text).strip()\n",
        "    \n",
        "     text = re.sub(r'https?:\\/\\/.*[\\r\\n]*', '', text, flags=re.MULTILINE)\n",
        "     text = re.sub(r'\\<a href', ' ', text)\n",
        "     text = re.sub(r'&amp;‘:‘ ’', '', text) \n",
        "     text = re.sub(r'[_\"\\-;%()|+&=*%.,!?:#$@\\[\\]/]। ,', ' ', text)\n",
        "     text = re.sub(r'<br />', ' ', text)\n",
        "     text = re.sub(r'\\'', ' ', text)\n",
        "     text = re.sub(r\"[\\@$#%~+-\\.\\'।\\\"]\",\" \",text)\n",
        "     text = re.sub(r\"(?m)^\\s+\", \"\", text)\n",
        "     text = re.sub(\"[()]\",\"\",text)\n",
        "     text = re.sub(\"[‘’]\",\"\",text)\n",
        "     text = re.sub(\"[!]\",\"\",text)\n",
        "     text = re.sub(\"[/]\",\"\",text)\n",
        "     text = re.sub(\"[:]\",\"\",text)\n",
        "     text= re.sub('\\ |\\?|\\.|\\!|\\/|\\;|\\:', ' ',text)\n",
        "     text= text.strip(\"/\")\n",
        "    \n",
        "     if remove_stopwords:\n",
        "         k = []\n",
        "         with open('/content/drive/MyDrive/Research On child sentiment/Banglastopword.txt', 'r',encoding=\"utf-8\") as f:\n",
        "             for word in f:\n",
        "                 word = word.split()\n",
        "                 k.append(word[0])\n",
        "             text = [t for t in text if t not in k]\n",
        "             text = \"\".join(text)\n",
        "            \n",
        "     return text"
      ],
      "execution_count": null,
      "outputs": []
    },
    {
      "cell_type": "markdown",
      "metadata": {
        "id": "mXa9T8KHm0-d"
      },
      "source": [
        "**Importing Library**"
      ]
    },
    {
      "cell_type": "code",
      "metadata": {
        "id": "2wckNLnGtl8O"
      },
      "source": [
        "import matplotlib.pyplot as plt\n",
        "import seaborn as sns\n",
        "import nltk\n",
        "import numpy as np\n",
        "from nltk.corpus import stopwords\n",
        "import string\n",
        "import math\n",
        "from sklearn.feature_extraction.text import CountVectorizer\n",
        "from sklearn.model_selection import train_test_split, cross_val_score\n",
        "from sklearn.model_selection import GridSearchCV\n",
        "from sklearn.metrics import confusion_matrix, classification_report, log_loss, cohen_kappa_score, roc_auc_score, roc_curve\n",
        "from sklearn import metrics\n",
        "%matplotlib inline"
      ],
      "execution_count": null,
      "outputs": []
    },
    {
      "cell_type": "markdown",
      "metadata": {
        "id": "Kl7-goNEnfVk"
      },
      "source": [
        "**Transform a text into a vector**"
      ]
    },
    {
      "cell_type": "code",
      "metadata": {
        "id": "CD2V5ULftl-q"
      },
      "source": [
        "vocab = CountVectorizer(ngram_range=(1,1),analyzer='word',encoding='utf-8').fit(x)"
      ],
      "execution_count": null,
      "outputs": []
    },
    {
      "cell_type": "code",
      "metadata": {
        "colab": {
          "base_uri": "https://localhost:8080/"
        },
        "id": "DMZBYu0ltmAp",
        "outputId": "d9833817-4647-47f5-e8ef-0c07e00b6166"
      },
      "source": [
        "print(vocab.vocabulary_)\n",
        "\n",
        "print(\"\\n\")\n",
        "\n",
        "x = vocab.transform(x) \n",
        "print(x.toarray())\n",
        "\n",
        "print(\"\\n\")\n",
        "\n",
        "print(vocab.get_feature_names())"
      ],
      "execution_count": null,
      "outputs": [
        {
          "output_type": "stream",
          "text": [
            "{'ধব': 529, 'জন': 376, 'যই': 728, 'নয়': 575, 'যবস': 749, 'যও': 729, 'উক': 137, 'বলব': 663, 'হত': 998, 'তম': 476, 'শরণ': 886, 'বসত': 668, 'মধ': 705, 'অন': 12, 'যতম': 741, 'শরন': 887, 'আশ': 94, 'রয়শ': 841, 'পর': 601, 'যয': 754, 'কর': 264, 'অগ': 1, 'সহ': 981, 'য়ত': 1026, 'ইউন': 112, 'এব': 203, 'এর': 209, 'সহয': 987, 'রচ': 776, 'যক': 730, 'রম': 814, 'ষণ': 899, 'রগ': 772, 'হয': 1003, 'ওয়': 229, 'রয': 822, 'ওয': 227, 'মহৎ': 725, 'ষত': 903, 'রস': 827, 'সকল': 923, 'রত': 792, 'আমর': 86, 'সমব': 957, 'দন': 503, 'রক': 766, 'করছ': 266, '১৯': 1052, 'ফল': 625, 'শব': 883, 'এমস': 208, 'এইচ': 178, 'সম': 954, 'রহণ': 832, '৫০': 1075, 'শত': 877, 'চট': 340, 'দর': 512, 'রতম': 794, 'একট': 186, 'বতন': 643, 'অক': 0, 'রয়': 840, 'এমন': 204, 'জট': 373, 'এখন': 193, 'আগ': 58, 'লন': 860, 'আত': 68, 'মব': 710, 'আরও': 90, 'খল': 292, 'যস': 756, 'তর': 478, 'সমস': 962, 'ড১৯': 436, 'নত': 552, 'নভ': 565, 'আল': 91, 'চন': 343, 'এন': 200, 'ছএমনক': 354, 'সমগ': 955, 'নবজ': 560, 'তক': 446, 'টগ': 417, 'পন': 597, 'অবদ': 25, 'ফর': 623, 'কমনওয': 259, 'লথ': 857, 'ভলপম': 689, 'অফ': 22, 'আন': 73, 'তজ': 452, 'ঞত': 412, 'পথ': 592, 'অত': 7, 'যন': 745, 'বপ': 654, 'সব': 946, 'মন': 706, 'মত': 702, 'ঘট': 325, 'ইর': 128, 'কত': 244, 'শর': 885, 'গঠন': 301, 'হব': 1001, 'সময়': 963, 'বস': 667, 'খত': 285, 'ন৷': 578, 'বলত': 662, 'য়৷': 1036, 'মহ': 722, 'নগর': 545, '৬৪': 1079, 'সই': 919, 'হয়': 1010, 'রভ': 813, 'রধ': 801, 'হল': 1007, 'য়গ': 1024, 'সহপ': 984, 'বন': 647, 'সঙ': 925, 'যদ': 743, 'ঘর': 334, 'আবদ': 82, 'অনল': 14, 'ইন': 123, 'কম': 256, 'উট': 140, 'বনয': 653, 'অভ': 31, 'পড়ব': 618, 'এক': 182, 'ধরন': 536, 'লক': 846, 'যম': 752, 'লগ': 850, '৭৭': 1085, 'শগ': 873, 'রহণও': 833, 'বড়': 673, 'ছন': 358, 'তবস': 473, 'রহ': 831, 'তরণ': 480, 'ইত': 121, 'ষদ': 904, 'তন': 461, 'বলছ': 661, 'ধর': 533, 'হচ': 995, 'অধ': 10, 'শই': 869, 'সত': 931, 'আইন': 53, 'ঘস': 337, 'ঘটন': 328, 'গই': 294, 'ড়ছ': 1018, 'গত': 309, '১০': 1038, 'বছর': 636, 'ষণসহ': 902, '৩৯৮০ট': 1070, 'মল': 717, '১৫৫৬ট': 1046, 'অথচ': 8, '৪০ট': 1071, '১৮০': 1050, 'হওয়': 993, 'কথ': 246, 'কল': 272, 'লত': 856, 'সঠ': 930, 'দরক': 513, 'পক': 580, 'সচ': 926, 'তনত': 465, 'যব': 748, 'দণ': 501, 'রও': 765, 'সরক': 969, 'র৷': 842, '১৮': 1049, 'কমবয়স': 261, 'ইজ': 116, 'বয়স': 678, 'রণ': 786, 'অর': 35, 'থন': 489, 'গর': 318, 'সবচ': 949, 'রমবর': 820, 'ধম': 530, 'কঠ': 242, 'অল': 36, 'অপর': 19, 'ফলস': 628, 'বর': 659, 'যগত': 736, 'উন': 149, 'নস': 572, 'ধন': 527, 'পত': 591, 'আর': 88, 'ঘব': 333, 'করত': 269, 'অব': 23, 'বদ': 644, 'তভ': 475, 'সন': 937, 'চর': 345, 'বড': 641, 'হওয': 992, 'রকম': 769, 'উঠব': 144, 'উপর': 156, 'সর': 968, 'বয': 658, 'কদ': 247, 'আপন': 78, 'রথম': 796, 'মড': 701, 'গল': 320, 'পছন': 585, 'চল': 348, 'চক': 338, 'এইভ': 181, 'লভ': 862, 'ঝত': 407, 'রশ': 825, 'রষ': 826, 'শক': 871, 'যভ': 751, 'বল': 660, 'রদ': 798, 'জর': 397, 'সবক': 948, 'ইচ': 115, 'যখন': 733, 'তখন': 448, 'অবশ': 28, 'উচ': 138, 'এমনক': 205, 'ষক': 896, 'রই': 762, 'ষয়': 913, 'উৎস': 172, 'করব': 270, 'সতত': 932, 'এট': 197, 'ইম': 127, 'রল': 824, 'ইল': 129, 'রদর': 800, 'শন': 881, 'নও': 540, 'আঙ': 60, 'ঈশ': 136, 'অভদ': 32, 'চয়': 353, 'আব': 81, 'নগ': 544, 'সদয়': 935, 'য়ম': 1032, 'ষয': 909, 'ডস': 435, 'মক': 694, 'দক': 495, 'বড়ই': 674, 'হর': 1004, 'পব': 598, 'পদ': 595, 'ওঠ': 221, 'মগত': 697, 'আম': 84, 'অহরহ': 48, 'ইসল': 131, 'নব': 558, 'গড়': 324, 'বক': 630, 'য়ক': 1023, 'রণত': 790, 'চলছ': 349, 'পণ': 590, 'ণত': 440, 'আছ': 63, 'উদ': 146, 'অথব': 9, 'লয়': 867, 'অবস': 29, 'উল': 168, 'খয': 289, 'রগত': 774, 'লকড': 847, 'চলব': 350, 'ৎসক': 1017, 'সহমর': 986, 'দনশ': 507, 'উপয': 155, 'ঈম': 135, 'করকম': 265, 'কড়': 279, 'ভয়': 690, 'আয়': 104, 'মস': 719, 'উম': 166, 'ফথ': 622, 'এস': 212, 'যবহ': 750, 'য়র': 1034, '৭২': 1082, 'কভ': 255, 'লদ': 858, 'তরঙ': 479, 'তড': 453, 'ৎক': 1015, 'রগড': 773, 'হন': 999, 'পড়': 615, 'বনক': 648, 'রঙ': 775, 'আজক': 65, 'ভব': 683, 'যৎ': 758, '১০০': 1039, '৮৮': 1088, '৩২': 1068, '৩৭': 1069, 'শও': 870, 'ইব': 126, 'যকর': 731, 'অধস': 11, 'ভঙ': 681, 'রথমব': 797, 'পল': 611, '১০৯৮': 1040, 'ছয়': 362, '৫৭২ট': 1078, 'তদ': 459, 'মরণ': 715, 'লড়': 866, 'রমণ': 818, '৯১': 1089, 'শঙ': 875, 'অসমভ': 45, 'ওপর': 225, 'লল': 864, 'ষমত': 908, 'যত': 739, 'ইপ': 124, 'আই': 49, 'চত': 341, 'ওজন': 220, 'যঝ': 737, 'জনস': 390, 'ষম': 907, 'তচ': 450, 'এই': 177, 'রবণত': 810, 'শহর': 892, 'উৎপ': 171, 'নয়ন': 576, 'জনগ': 379, 'অস': 40, 'টন': 421, 'তবয': 472, 'য়ন': 1028, 'সবল': 952, 'সশস': 978, 'থল': 494, 'সমর': 961, 'বত': 642, 'এশ': 211, 'বভ': 656, 'গণপ': 306, 'রজ': 782, 'খণ': 284, '৫৭ট': 1077, 'নদ': 556, 'ঐত': 218, 'রন': 802, 'আফগ': 80, '২০০ট': 1056, 'দপত': 509, '১৮০০ট': 1051, 'একজন': 185, 'ছয়ট': 363, 'উৎসবগ': 174, 'বজন': 638, 'ইট': 118, 'উৎসব': 173, 'পহ': 614, 'খপ': 287, 'শহ': 891, 'দদ': 502, '২১শ': 1064, 'জনবহ': 387, 'নয': 567, 'নশ': 570, 'রব': 807, 'দকদ': 496, 'দফতরও': 510, 'জধ': 375, 'ইয়': 132, 'রহম': 837, 'টক': 414, 'সফল': 944, 'সবজ': 950, 'ভর': 686, 'কআপ': 232, 'য়দ': 1027, 'ছড': 356, 'সরবর': 973, '২০১০': 1059, 'রছ': 780, 'যপ': 746, 'আসছ': 98, 'রপ': 803, 'অপ': 16, 'পকভ': 582, '২৬': 1066, 'গছ': 298, 'দম': 511, 'একসন': 191, 'রচলন': 779, 'লয': 863, 'বসব': 669, 'সরত': 971, 'রমসহ': 821, 'তত': 454, 'আনত': 75, 'সক': 922, 'আট': 66, 'সময়ট': 965, 'নন': 557, 'থম': 493, 'গণম': 308, 'দনগ': 505, 'অসন': 42, '১৪': 1044, 'সবথ': 951, 'পট': 587, 'বড়দ': 675, 'ৎস': 1016, 'জলব': 400, 'ষণভ': 900, 'ঝড়': 411, 'রবণ': 809, 'যহ': 757, '২০১১': 1060, 'পকল': 583, 'ধত': 525, 'ষয়ট': 917, 'সমভ': 959, 'বনপ': 651, 'উঠ': 142, 'জড': 374, '১৭': 1047, 'বয়সন': 679, 'ওদ': 223, 'মঞ': 699, 'জস': 401, 'নল': 569, 'বকর': 632, 'টছ': 418, 'যথ': 742, 'খস': 293, 'থব': 490, 'হক': 994, 'রকও': 767, 'এদ': 199, 'বই': 629, 'ঝল': 410, 'পড়ত': 617, 'বব': 655, 'লয়গ': 868, 'শতকর': 879, '৭৫': 1084, 'অঙ': 3, 'দপ': 508, 'গব': 313, '৫৬': 1076, '৬৮': 1081, 'গণ': 303, 'কমত': 258, 'টত': 419, 'যঞ': 738, 'জনবর': 385, 'আবশ': 83, 'মহত': 723, 'পথগ': 593, 'জল': 398, 'বচ': 635, 'জয়': 404, 'বট': 640, 'মপর': 709, 'কক': 233, 'শজ': 876, 'গণপর': 307, 'বহন': 672, 'আকর': 57, 'আনন': 76, 'সময': 960, 'বনজ': 649, 'তব': 467, 'অবক': 24, 'দনও': 504, 'এল': 210, 'ঘন': 331, 'আয': 87, '২০': 1055, 'দকস': 497, '২৪': 1065, 'সলম': 977, 'একত': 187, 'জনই': 377, 'একধরন': 189, 'কখন': 234, 'সরঞ': 970, 'লও': 845, 'রমক': 816, 'পটভ': 588, 'উটর': 141, 'সল': 976, 'আদ': 70, 'করল': 271, 'পঞ': 586, 'সওয': 921, 'ফলগ': 626, 'উপ': 150, 'তল': 481, 'নবসত': 563, 'মই': 691, 'থচ': 487, 'আস': 96, 'সরন': 972, 'কতট': 245, 'উত': 145, 'বনট': 650, 'সরল': 974, 'যর': 755, 'থত': 488, 'গঠ': 300, 'ইঙ': 114, 'অশ': 37, 'উধ': 148, 'হঠ': 997, 'ড়ন': 1020, 'জনমত': 388, 'অগণ': 2, 'রজন': 783, 'বহ': 671, '১৫': 1045, '১২১৩': 1043, '৬৭': 1080, '৩০': 1067, 'য়ও': 1022, 'পথশ': 594, 'তছ': 451, 'সৎ': 988, 'অসৎ': 47, 'টফ': 422, 'রফত': 805, 'তথ': 458, 'পবল': 599, 'আসল': 101, 'নম': 566, 'বঞ': 639, 'রবজনক': 808, 'তখনই': 449, 'ময': 713, 'হস': 1008, 'পরবর': 609, 'উপমহ': 154, 'বশ': 665, 'ইটগ': 119, 'উজ': 139, 'জনপ': 383, 'টদ': 420, 'আনয়ন': 77, 'ণদ': 442, 'কপ': 250, 'জনদ': 381, 'সঞ': 928, 'সময়ক': 964, 'জঙ': 372, 'ণগ': 438, 'তবয়স': 474, 'শকদ': 872, 'উঠত': 143, 'ইদ': 122, 'নক': 541, 'রট': 785, 'অড': 6, 'নর': 568, 'মর': 714, 'রথ': 795, 'পড়ছ': 616, 'খজনক': 283, 'ণর': 445, 'আপনজনদ': 79, 'বময়': 657, 'কষ': 276, 'য়স': 1035, 'অসহ': 46, 'করণ': 267, 'ধমক': 531, 'বলল': 664, 'আজ': 64, 'আসক': 97, 'অবহ': 30, 'এনজ': 201, 'এগ': 195, 'ষয়বস': 918, 'দনম': 506, 'অজ': 4, 'সস': 980, 'আইক': 51, 'বয়': 676, 'ড়ত': 1019, 'নছ': 547, 'ভধ': 682, 'রজনন': 784, 'রচণ': 777, 'হয়র': 1013, 'উর': 167, 'রহণম': 835, 'টফর': 423, 'ষয়গ': 916, 'য়ই': 1021, 'পবয়স': 600, 'ময়': 726, 'বনম': 652, 'আয়ত': 105, 'ঘদ': 330, 'অসম': 44, 'ধকত': 524, 'এসব': 215, 'আচরণ': 61, 'আওত': 55, 'এখনও': 194, 'রণয়ন': 791, 'ইক': 113, 'সদ': 933, 'চরণ': 346, 'থভ': 492, 'জনসম': 391, 'মনক': 708, 'জয': 396, 'সহজ': 982, 'করণপ': 268, 'রছল': 781, 'ইফত': 125, 'সমবয়স': 958, 'ময়ল': 727, 'দয়': 521, 'ছপ': 359, 'ঈদ': 134, 'জম': 395, 'উপহ': 161, 'ঝগড়': 406, 'নজর': 550, 'যকল': 732, 'উপলব': 159, 'য়মক': 1033, 'জবরদস': 394, 'গড': 302, 'ধরণ': 534, 'একইরকম': 184, 'আলস': 93, 'লব': 861, 'ততই': 455, 'হই': 989, 'দরজ': 514, 'ভয': 685, 'কট': 240, 'ঝব': 408, 'অপন': 17, 'কড': 243, 'চলম': 351, 'পয়স': 620, 'লকল': 849, 'নয়৷': 577, 'সবসময়': 953, 'আড়': 103, 'ঝগড': 405, 'এড': 198, '৮০': 1086, 'ভবত': 684, 'জনগণ': 380, 'লধ': 859, 'গস': 322, 'নকর': 542, 'ইঞ': 117, 'কশন': 275, 'এইচআইভ': 179, 'ঘটছ': 326, 'হবধ': 1002, 'ছড়': 361, 'অশন': 38, 'এইডস': 180, 'তহব': 484, 'আরএমজ': 89, 'বকই': 631, 'হরণ': 1005, 'আনছ': 74, 'রকল': 770, 'থও': 485, 'রউপর': 763, 'রণকরত': 788, 'ঠক': 429, 'আক': 56, 'ঠভ': 431, 'খছ': 282, 'রতভ': 793, 'ষরত': 911, 'সপ': 940, 'ইড': 120, '৪১': 1073, 'পয়': 619, 'ঘনঘন': 332, 'নগরম': 546, 'শগত': 874, 'উপজ': 153, 'হরন': 1006, 'সমন': 956, 'উপস': 160, 'সবই': 947, 'ষকদ': 897, 'বধ': 646, 'জব': 393, '৪৫': 1074, 'গম': 316, 'পকত': 581, 'ঝর': 409, 'মজ': 698, 'গকবল': 296, 'ঋত': 176, 'রফরম': 806, 'যয়': 759, 'চম': 344, 'অষ': 39, 'টম': 425, 'শলগত': 889, 'গপ': 312, 'ষয়ক': 915, 'আশঙ': 95, 'মওয়': 693, 'ঘরব': 335, 'কছ': 238, 'শহরগ': 893, 'পদক': 596, 'হয়ন': 1012, 'আতঙ': 69, 'থক': 486, 'নট': 551, 'সদস': 934, 'কলক': 273, 'রখ': 771, 'মরত': 716, 'কজন': 239, 'শহরম': 894, 'তনজন': 464, 'ষয়ই': 914, 'পরন': 606, 'ভরত': 687, 'মমত': 712, 'অম': 33, 'জড়': 403, 'পরছ': 604, 'অপব': 18, 'হয়৷': 1014, 'অপহরণ': 21, '৮৫ট': 1087, 'কলহ': 274, 'নজ': 548, 'য়ড': 1025, 'নবত': 561, 'জসম': 402, 'ফজর': 621, 'আসর': 100, 'খন': 286, 'পড': 589, 'পরব': 608, 'ছব': 360, 'রহমত': 838, 'কচ': 237, 'সহনশ': 983, 'মহম': 724, 'উভয়': 164, 'উপক': 151, 'হজ': 996, 'উৎকণ': 170, 'বশর': 666, 'রপর': 804, 'ষন': 905, 'যধ': 744, 'কয়': 280, 'রমজ': 817, '১১': 1041, 'পরপর': 607, 'আগমন': 59, '১৯৭২': 1053, '১৭ট': 1048, 'নষ': 571, 'রমই': 815, 'ভক': 680, 'দশ': 517, 'কয়ল': 281, '৪০০': 1072, 'একই': 183, 'সফলত': 945, 'তনগ': 463, 'চরম': 347, 'লচ': 853, 'রএর': 764, 'আচরণ৷': 62, 'কটজন': 241, 'কমছ': 257, '২০১৩': 1061, '৭৩০ট': 1083, 'জন৷': 392, 'লঘ': 851, 'লজ': 855, 'কব': 252, 'গণত': 305, 'রচল': 778, 'নতম': 555, 'জলপথক': 399, 'জনবসত': 386, 'রবল': 812, 'ধক': 523, 'শপ': 882, 'কন': 248, 'শতক': 878, 'মনই': 707, 'ঘটত': 327, 'জনন': 382, 'দড়': 520, 'দশক': 518, 'ঘণ': 329, 'জনব': 384, 'মদ': 704, 'মসল': 721, 'তফ': 466, 'দস': 519, 'পরত': 605, 'রকট': 768, 'রহর': 839, 'আটক': 67, 'জগ': 367, 'নজট': 549, 'য়ব': 1030, 'ধও': 522, 'গতক': 310, 'টল': 427, 'রআনক': 761, 'ধরল': 537, 'পরক': 603, 'সট': 929, 'খব': 288, 'আদর': 71, 'ফরজ': 624, '১২': 1042, 'যমত': 753, 'হহ': 1009, 'ষই': 895, 'কস': 277, 'গক': 295, 'জনশক': 389, 'ওপরই': 226, 'ধস': 538, 'হয়ত': 1011, 'মম': 711, 'পরও': 602, 'কখনও': 236, 'য়ভ': 1031, 'মষ': 718, 'নবসম': 564, 'কবর': 253, 'ণগত': 439, 'সপত': 941, 'উপলক': 158, 'ঔষধও': 231, 'তসহ': 483, 'নকল': 543, 'ঔষধ': 230, 'রর': 823, 'নহ': 574, 'এজন': 196, 'লছ': 854, 'অপরক': 20, 'ধয': 532, 'মকর': 695, 'জকর': 365, 'উপরও': 157, 'সজ': 927, 'লকভ': 848, 'ততম': 457, 'কপঠন': 251, 'উপকরণ': 152, 'নসম': 573, 'কবল': 254, 'রণগ': 789, 'সকষ': 924, 'থবহ': 491, 'রসব': 830, 'গতভ': 311, 'রণক': 787, 'সময়স': 966, 'উবর': 163, 'ডল': 434, 'কমপ': 260, 'সনদ': 939, 'খর': 290, 'টয়ল': 428, 'গরমও': 319, 'পষ': 612, 'শয': 884, 'আইস': 54, 'ইউ': 106, 'ঞপ': 413, 'আমদ': 85, 'বঙ': 634, 'গবন': 314, 'জকল': 366, 'গগ': 297, 'মগ': 696, 'ইউট': 111, 'উব': 162, 'ওগ': 219, 'কনট': 249, 'সয': 967, 'শল': 888, 'জগতট': 369, 'এখ': 192, 'ষভ': 906, 'হইয়': 991, 'নততর': 554, 'ণতর': 441, 'রহণক': 834, 'উভয়স': 165, 'গণচ': 304, 'তকব': 447, 'আইইড': 50, 'গঞ': 299, 'কয': 263, 'ওল': 228, 'দগ': 498, 'দট': 500, '২০১৫': 1062, 'কহ': 278, 'পঙ': 584, 'জগৎ': 370, 'শশ': 890, 'বসম': 670, 'ভল': 688, 'লস': 865, 'ধনক': 528, 'তস': 482, 'চছ': 339, 'ইউআইইউর': 109, 'চশ': 352, 'অঞ': 5, 'ইউআইইউ': 107, 'বখ': 633, 'এসপ': 214, 'ইউআইইউত': 108, 'শতভ': 880, 'ণক': 437, 'ষকশ': 898, 'মসম': 720, 'তযশ': 477, 'পস': 613, 'ডক': 432, 'ঠদ': 430, 'সফ': 942, 'ষস': 912, 'গয': 317, '২০১৮': 1063, 'ইউজ': 110, 'আসন': 99, 'এসআর': 213, 'চতর': 342, 'টকহ': 415, 'সফটওয': 943, 'জগৎক': 371, 'রবন': 811, 'আলফ': 92, 'আধ': 72, 'সরশ': 975, 'গলক': 321, '২য': 1054, '২০০৮': 1058, 'ডব': 433, 'ইস': 130, 'লঙ': 852, 'ছদ': 357, 'খরচ': 291, 'কমল': 262, 'রমণজন': 819, 'নতক': 553, '১ল': 1037, 'এপ': 202, '২০০৪': 1057, 'আইড': 52, 'মট': 700, 'লইন': 844, 'লআত': 843, 'রআত': 760, 'মউন': 692, 'সধন': 936, 'উহ': 169, 'হইত': 990, 'রসন': 829, 'ষর': 910, 'ওপ': 224, 'ঘশ': 336, 'ধতম': 526, 'টখ': 416, 'একদ': 188, 'এমপ': 207, 'তদন': 460, 'যপথ': 747, 'অবলম': 27, 'বয়ক': 677, 'এমনভ': 206, 'নবস': 562, 'মতব': 703, 'ধরত': 535, 'দল': 515, 'যগণ': 735, 'ঐক': 217, 'সহমত': 985, 'গহ': 323, 'ষণশ': 901, 'টব': 424, 'অসচ': 41, 'ওত': 222, 'তবম': 471, 'জগত': 368, 'সষ': 979, 'রসত': 828, 'একম': 190, 'পরম': 610, 'অনন': 13, 'দগণ': 499, 'অনস': 15, 'বজ': 637, 'তবব': 469, 'তবত': 468, 'ণভ': 443, 'তনই': 462, 'রদত': 799, 'তবভ': 470, 'আহরণ': 102, 'দলগ': 516, 'গভ': 315, 'ফলশ': 627, 'সনক': 938, 'নবকল': 559, 'পআল': 579, 'রহণয': 836, 'য়নস': 1029, 'জনকল': 378, 'ণম': 444, 'টর': 426, 'নই': 539, 'কখনই': 235, 'বদল': 645, 'ঈগল': 133, 'উড়': 175, 'এড়': 216, 'জক': 364, 'হনন': 1000, 'অমরত': 34, 'উদয': 147, 'অসফলত': 43, 'ততক': 456, 'অবধ': 26, 'যতক': 740, 'ছট': 355, 'সইত': 920, 'যগ': 734}\n",
            "\n",
            "\n",
            "[[0 0 0 ... 0 0 0]\n",
            " [0 0 0 ... 0 0 0]\n",
            " [0 1 0 ... 0 0 0]\n",
            " ...\n",
            " [0 1 0 ... 0 0 0]\n",
            " [0 0 0 ... 0 0 0]\n",
            " [0 0 0 ... 0 0 0]]\n",
            "\n",
            "\n",
            "['অক', 'অগ', 'অগণ', 'অঙ', 'অজ', 'অঞ', 'অড', 'অত', 'অথচ', 'অথব', 'অধ', 'অধস', 'অন', 'অনন', 'অনল', 'অনস', 'অপ', 'অপন', 'অপব', 'অপর', 'অপরক', 'অপহরণ', 'অফ', 'অব', 'অবক', 'অবদ', 'অবধ', 'অবলম', 'অবশ', 'অবস', 'অবহ', 'অভ', 'অভদ', 'অম', 'অমরত', 'অর', 'অল', 'অশ', 'অশন', 'অষ', 'অস', 'অসচ', 'অসন', 'অসফলত', 'অসম', 'অসমভ', 'অসহ', 'অসৎ', 'অহরহ', 'আই', 'আইইড', 'আইক', 'আইড', 'আইন', 'আইস', 'আওত', 'আক', 'আকর', 'আগ', 'আগমন', 'আঙ', 'আচরণ', 'আচরণ৷', 'আছ', 'আজ', 'আজক', 'আট', 'আটক', 'আত', 'আতঙ', 'আদ', 'আদর', 'আধ', 'আন', 'আনছ', 'আনত', 'আনন', 'আনয়ন', 'আপন', 'আপনজনদ', 'আফগ', 'আব', 'আবদ', 'আবশ', 'আম', 'আমদ', 'আমর', 'আয', 'আর', 'আরএমজ', 'আরও', 'আল', 'আলফ', 'আলস', 'আশ', 'আশঙ', 'আস', 'আসক', 'আসছ', 'আসন', 'আসর', 'আসল', 'আহরণ', 'আড়', 'আয়', 'আয়ত', 'ইউ', 'ইউআইইউ', 'ইউআইইউত', 'ইউআইইউর', 'ইউজ', 'ইউট', 'ইউন', 'ইক', 'ইঙ', 'ইচ', 'ইজ', 'ইঞ', 'ইট', 'ইটগ', 'ইড', 'ইত', 'ইদ', 'ইন', 'ইপ', 'ইফত', 'ইব', 'ইম', 'ইর', 'ইল', 'ইস', 'ইসল', 'ইয়', 'ঈগল', 'ঈদ', 'ঈম', 'ঈশ', 'উক', 'উচ', 'উজ', 'উট', 'উটর', 'উঠ', 'উঠত', 'উঠব', 'উত', 'উদ', 'উদয', 'উধ', 'উন', 'উপ', 'উপক', 'উপকরণ', 'উপজ', 'উপমহ', 'উপয', 'উপর', 'উপরও', 'উপলক', 'উপলব', 'উপস', 'উপহ', 'উব', 'উবর', 'উভয়', 'উভয়স', 'উম', 'উর', 'উল', 'উহ', 'উৎকণ', 'উৎপ', 'উৎস', 'উৎসব', 'উৎসবগ', 'উড়', 'ঋত', 'এই', 'এইচ', 'এইচআইভ', 'এইডস', 'এইভ', 'এক', 'একই', 'একইরকম', 'একজন', 'একট', 'একত', 'একদ', 'একধরন', 'একম', 'একসন', 'এখ', 'এখন', 'এখনও', 'এগ', 'এজন', 'এট', 'এড', 'এদ', 'এন', 'এনজ', 'এপ', 'এব', 'এমন', 'এমনক', 'এমনভ', 'এমপ', 'এমস', 'এর', 'এল', 'এশ', 'এস', 'এসআর', 'এসপ', 'এসব', 'এড়', 'ঐক', 'ঐত', 'ওগ', 'ওজন', 'ওঠ', 'ওত', 'ওদ', 'ওপ', 'ওপর', 'ওপরই', 'ওয', 'ওল', 'ওয়', 'ঔষধ', 'ঔষধও', 'কআপ', 'কক', 'কখন', 'কখনই', 'কখনও', 'কচ', 'কছ', 'কজন', 'কট', 'কটজন', 'কঠ', 'কড', 'কত', 'কতট', 'কথ', 'কদ', 'কন', 'কনট', 'কপ', 'কপঠন', 'কব', 'কবর', 'কবল', 'কভ', 'কম', 'কমছ', 'কমত', 'কমনওয', 'কমপ', 'কমবয়স', 'কমল', 'কয', 'কর', 'করকম', 'করছ', 'করণ', 'করণপ', 'করত', 'করব', 'করল', 'কল', 'কলক', 'কলহ', 'কশন', 'কষ', 'কস', 'কহ', 'কড়', 'কয়', 'কয়ল', 'খছ', 'খজনক', 'খণ', 'খত', 'খন', 'খপ', 'খব', 'খয', 'খর', 'খরচ', 'খল', 'খস', 'গই', 'গক', 'গকবল', 'গগ', 'গছ', 'গঞ', 'গঠ', 'গঠন', 'গড', 'গণ', 'গণচ', 'গণত', 'গণপ', 'গণপর', 'গণম', 'গত', 'গতক', 'গতভ', 'গপ', 'গব', 'গবন', 'গভ', 'গম', 'গয', 'গর', 'গরমও', 'গল', 'গলক', 'গস', 'গহ', 'গড়', 'ঘট', 'ঘটছ', 'ঘটত', 'ঘটন', 'ঘণ', 'ঘদ', 'ঘন', 'ঘনঘন', 'ঘব', 'ঘর', 'ঘরব', 'ঘশ', 'ঘস', 'চক', 'চছ', 'চট', 'চত', 'চতর', 'চন', 'চম', 'চর', 'চরণ', 'চরম', 'চল', 'চলছ', 'চলব', 'চলম', 'চশ', 'চয়', 'ছএমনক', 'ছট', 'ছড', 'ছদ', 'ছন', 'ছপ', 'ছব', 'ছড়', 'ছয়', 'ছয়ট', 'জক', 'জকর', 'জকল', 'জগ', 'জগত', 'জগতট', 'জগৎ', 'জগৎক', 'জঙ', 'জট', 'জড', 'জধ', 'জন', 'জনই', 'জনকল', 'জনগ', 'জনগণ', 'জনদ', 'জনন', 'জনপ', 'জনব', 'জনবর', 'জনবসত', 'জনবহ', 'জনমত', 'জনশক', 'জনস', 'জনসম', 'জন৷', 'জব', 'জবরদস', 'জম', 'জয', 'জর', 'জল', 'জলপথক', 'জলব', 'জস', 'জসম', 'জড়', 'জয়', 'ঝগড', 'ঝগড়', 'ঝত', 'ঝব', 'ঝর', 'ঝল', 'ঝড়', 'ঞত', 'ঞপ', 'টক', 'টকহ', 'টখ', 'টগ', 'টছ', 'টত', 'টদ', 'টন', 'টফ', 'টফর', 'টব', 'টম', 'টর', 'টল', 'টয়ল', 'ঠক', 'ঠদ', 'ঠভ', 'ডক', 'ডব', 'ডল', 'ডস', 'ড১৯', 'ণক', 'ণগ', 'ণগত', 'ণত', 'ণতর', 'ণদ', 'ণভ', 'ণম', 'ণর', 'তক', 'তকব', 'তখন', 'তখনই', 'তচ', 'তছ', 'তজ', 'তড', 'তত', 'ততই', 'ততক', 'ততম', 'তথ', 'তদ', 'তদন', 'তন', 'তনই', 'তনগ', 'তনজন', 'তনত', 'তফ', 'তব', 'তবত', 'তবব', 'তবভ', 'তবম', 'তবয', 'তবস', 'তবয়স', 'তভ', 'তম', 'তযশ', 'তর', 'তরঙ', 'তরণ', 'তল', 'তস', 'তসহ', 'তহব', 'থও', 'থক', 'থচ', 'থত', 'থন', 'থব', 'থবহ', 'থভ', 'থম', 'থল', 'দক', 'দকদ', 'দকস', 'দগ', 'দগণ', 'দট', 'দণ', 'দদ', 'দন', 'দনও', 'দনগ', 'দনম', 'দনশ', 'দপ', 'দপত', 'দফতরও', 'দম', 'দর', 'দরক', 'দরজ', 'দল', 'দলগ', 'দশ', 'দশক', 'দস', 'দড়', 'দয়', 'ধও', 'ধক', 'ধকত', 'ধত', 'ধতম', 'ধন', 'ধনক', 'ধব', 'ধম', 'ধমক', 'ধয', 'ধর', 'ধরণ', 'ধরত', 'ধরন', 'ধরল', 'ধস', 'নই', 'নও', 'নক', 'নকর', 'নকল', 'নগ', 'নগর', 'নগরম', 'নছ', 'নজ', 'নজট', 'নজর', 'নট', 'নত', 'নতক', 'নততর', 'নতম', 'নদ', 'নন', 'নব', 'নবকল', 'নবজ', 'নবত', 'নবস', 'নবসত', 'নবসম', 'নভ', 'নম', 'নয', 'নর', 'নল', 'নশ', 'নষ', 'নস', 'নসম', 'নহ', 'নয়', 'নয়ন', 'নয়৷', 'ন৷', 'পআল', 'পক', 'পকত', 'পকভ', 'পকল', 'পঙ', 'পছন', 'পঞ', 'পট', 'পটভ', 'পড', 'পণ', 'পত', 'পথ', 'পথগ', 'পথশ', 'পদ', 'পদক', 'পন', 'পব', 'পবল', 'পবয়স', 'পর', 'পরও', 'পরক', 'পরছ', 'পরত', 'পরন', 'পরপর', 'পরব', 'পরবর', 'পরম', 'পল', 'পষ', 'পস', 'পহ', 'পড়', 'পড়ছ', 'পড়ত', 'পড়ব', 'পয়', 'পয়স', 'ফজর', 'ফথ', 'ফর', 'ফরজ', 'ফল', 'ফলগ', 'ফলশ', 'ফলস', 'বই', 'বক', 'বকই', 'বকর', 'বখ', 'বঙ', 'বচ', 'বছর', 'বজ', 'বজন', 'বঞ', 'বট', 'বড', 'বত', 'বতন', 'বদ', 'বদল', 'বধ', 'বন', 'বনক', 'বনজ', 'বনট', 'বনপ', 'বনম', 'বনয', 'বপ', 'বব', 'বভ', 'বময়', 'বয', 'বর', 'বল', 'বলছ', 'বলত', 'বলব', 'বলল', 'বশ', 'বশর', 'বস', 'বসত', 'বসব', 'বসম', 'বহ', 'বহন', 'বড়', 'বড়ই', 'বড়দ', 'বয়', 'বয়ক', 'বয়স', 'বয়সন', 'ভক', 'ভঙ', 'ভধ', 'ভব', 'ভবত', 'ভয', 'ভর', 'ভরত', 'ভল', 'ভলপম', 'ভয়', 'মই', 'মউন', 'মওয়', 'মক', 'মকর', 'মগ', 'মগত', 'মজ', 'মঞ', 'মট', 'মড', 'মত', 'মতব', 'মদ', 'মধ', 'মন', 'মনই', 'মনক', 'মপর', 'মব', 'মম', 'মমত', 'ময', 'মর', 'মরণ', 'মরত', 'মল', 'মষ', 'মস', 'মসম', 'মসল', 'মহ', 'মহত', 'মহম', 'মহৎ', 'ময়', 'ময়ল', 'যই', 'যও', 'যক', 'যকর', 'যকল', 'যখন', 'যগ', 'যগণ', 'যগত', 'যঝ', 'যঞ', 'যত', 'যতক', 'যতম', 'যথ', 'যদ', 'যধ', 'যন', 'যপ', 'যপথ', 'যব', 'যবস', 'যবহ', 'যভ', 'যম', 'যমত', 'যয', 'যর', 'যস', 'যহ', 'যৎ', 'যয়', 'রআত', 'রআনক', 'রই', 'রউপর', 'রএর', 'রও', 'রক', 'রকও', 'রকট', 'রকম', 'রকল', 'রখ', 'রগ', 'রগড', 'রগত', 'রঙ', 'রচ', 'রচণ', 'রচল', 'রচলন', 'রছ', 'রছল', 'রজ', 'রজন', 'রজনন', 'রট', 'রণ', 'রণক', 'রণকরত', 'রণগ', 'রণত', 'রণয়ন', 'রত', 'রতভ', 'রতম', 'রথ', 'রথম', 'রথমব', 'রদ', 'রদত', 'রদর', 'রধ', 'রন', 'রপ', 'রপর', 'রফত', 'রফরম', 'রব', 'রবজনক', 'রবণ', 'রবণত', 'রবন', 'রবল', 'রভ', 'রম', 'রমই', 'রমক', 'রমজ', 'রমণ', 'রমণজন', 'রমবর', 'রমসহ', 'রয', 'রর', 'রল', 'রশ', 'রষ', 'রস', 'রসত', 'রসন', 'রসব', 'রহ', 'রহণ', 'রহণও', 'রহণক', 'রহণম', 'রহণয', 'রহম', 'রহমত', 'রহর', 'রয়', 'রয়শ', 'র৷', 'লআত', 'লইন', 'লও', 'লক', 'লকড', 'লকভ', 'লকল', 'লগ', 'লঘ', 'লঙ', 'লচ', 'লছ', 'লজ', 'লত', 'লথ', 'লদ', 'লধ', 'লন', 'লব', 'লভ', 'লয', 'লল', 'লস', 'লড়', 'লয়', 'লয়গ', 'শই', 'শও', 'শক', 'শকদ', 'শগ', 'শগত', 'শঙ', 'শজ', 'শত', 'শতক', 'শতকর', 'শতভ', 'শন', 'শপ', 'শব', 'শয', 'শর', 'শরণ', 'শরন', 'শল', 'শলগত', 'শশ', 'শহ', 'শহর', 'শহরগ', 'শহরম', 'ষই', 'ষক', 'ষকদ', 'ষকশ', 'ষণ', 'ষণভ', 'ষণশ', 'ষণসহ', 'ষত', 'ষদ', 'ষন', 'ষভ', 'ষম', 'ষমত', 'ষয', 'ষর', 'ষরত', 'ষস', 'ষয়', 'ষয়ই', 'ষয়ক', 'ষয়গ', 'ষয়ট', 'ষয়বস', 'সই', 'সইত', 'সওয', 'সক', 'সকল', 'সকষ', 'সঙ', 'সচ', 'সজ', 'সঞ', 'সট', 'সঠ', 'সত', 'সতত', 'সদ', 'সদস', 'সদয়', 'সধন', 'সন', 'সনক', 'সনদ', 'সপ', 'সপত', 'সফ', 'সফটওয', 'সফল', 'সফলত', 'সব', 'সবই', 'সবক', 'সবচ', 'সবজ', 'সবথ', 'সবল', 'সবসময়', 'সম', 'সমগ', 'সমন', 'সমব', 'সমবয়স', 'সমভ', 'সময', 'সমর', 'সমস', 'সময়', 'সময়ক', 'সময়ট', 'সময়স', 'সয', 'সর', 'সরক', 'সরঞ', 'সরত', 'সরন', 'সরবর', 'সরল', 'সরশ', 'সল', 'সলম', 'সশস', 'সষ', 'সস', 'সহ', 'সহজ', 'সহনশ', 'সহপ', 'সহমত', 'সহমর', 'সহয', 'সৎ', 'হই', 'হইত', 'হইয়', 'হওয', 'হওয়', 'হক', 'হচ', 'হজ', 'হঠ', 'হত', 'হন', 'হনন', 'হব', 'হবধ', 'হয', 'হর', 'হরণ', 'হরন', 'হল', 'হস', 'হহ', 'হয়', 'হয়ত', 'হয়ন', 'হয়র', 'হয়৷', 'ৎক', 'ৎস', 'ৎসক', 'ড়ছ', 'ড়ত', 'ড়ন', 'য়ই', 'য়ও', 'য়ক', 'য়গ', 'য়ড', 'য়ত', 'য়দ', 'য়ন', 'য়নস', 'য়ব', 'য়ভ', 'য়ম', 'য়মক', 'য়র', 'য়স', 'য়৷', '১ল', '১০', '১০০', '১০৯৮', '১১', '১২', '১২১৩', '১৪', '১৫', '১৫৫৬ট', '১৭', '১৭ট', '১৮', '১৮০', '১৮০০ট', '১৯', '১৯৭২', '২য', '২০', '২০০ট', '২০০৪', '২০০৮', '২০১০', '২০১১', '২০১৩', '২০১৫', '২০১৮', '২১শ', '২৪', '২৬', '৩০', '৩২', '৩৭', '৩৯৮০ট', '৪০ট', '৪০০', '৪১', '৪৫', '৫০', '৫৬', '৫৭ট', '৫৭২ট', '৬৪', '৬৭', '৬৮', '৭২', '৭৩০ট', '৭৫', '৭৭', '৮০', '৮৫ট', '৮৮', '৯১']\n"
          ],
          "name": "stdout"
        }
      ]
    },
    {
      "cell_type": "code",
      "metadata": {
        "colab": {
          "base_uri": "https://localhost:8080/"
        },
        "id": "a9Hpk7Z3tUgS",
        "outputId": "25426578-aab1-42fd-e17a-978a4bee53b9"
      },
      "source": [
        "print(\"Shape of the sparse matrix: \", x.shape)\n",
        "print(\"Non-Zero occurences: \",x.nnz)\n",
        "density = (x.nnz/(x.shape[0]*x.shape[1]))*100\n",
        "print(\"Density of the matrix = \",density)"
      ],
      "execution_count": null,
      "outputs": [
        {
          "output_type": "stream",
          "text": [
            "Shape of the sparse matrix:  (1000, 1090)\n",
            "Non-Zero occurences:  7453\n",
            "Density of the matrix =  0.6837614678899082\n"
          ],
          "name": "stdout"
        }
      ]
    },
    {
      "cell_type": "code",
      "metadata": {
        "id": "YXTtun6PtzFA"
      },
      "source": [
        "x_train,x_test,y_train,y_test = train_test_split(x,y,test_size=0.10,random_state=999)"
      ],
      "execution_count": null,
      "outputs": []
    },
    {
      "cell_type": "code",
      "metadata": {
        "colab": {
          "base_uri": "https://localhost:8080/",
          "height": 880
        },
        "id": "g0UQvq1fuKzg",
        "outputId": "61eb667f-43eb-4a08-831d-7f72b8b9c032"
      },
      "source": [
        "from sklearn.naive_bayes import MultinomialNB\n",
        "mnb = MultinomialNB()\n",
        "mnb.fit(x_train,y_train)\n",
        "print('Confusion matrix of model is :')\n",
        "cm = confusion_matrix(y_test,mnb.predict(x_test))\n",
        "TP = cm[0][0]\n",
        "TN = cm[1][1]\n",
        "FP = cm[0][1]\n",
        "FN = cm[1][0]\n",
        "print(cm)\n",
        "print()\n",
        "result1 = classification_report(y_test, mnb.predict(x_test))\n",
        "print(\"Classification Report : \",)\n",
        "print (result1)\n",
        "print()\n",
        "var1 = ((TP + TN)/(TP + TN + FP + FN)) *100\n",
        "print('Testing accuracy : ',var1)\n",
        "print('Sensitivity : ', TP/(TP+FN))\n",
        "print('Specificity : ', TN/(TN+FP))\n",
        "print('false positive rate : ', FP/(FP+TN))\n",
        "print('false negative rate : ', FN/(FN+TP))\n",
        "print('Negative Predictive Value : ', TN/(TN+FN))\n",
        "print('False Discovery rate : ', FP/(TP+FP))\n",
        "print('Mean Absolute Error:', metrics.mean_absolute_error(y_test,mnb.predict(x_test)))\n",
        "print('Mean Squared Error:', metrics.mean_squared_error(y_test, mnb.predict(x_test)))\n",
        "print('Root Mean Squared Error:', np.sqrt(metrics.mean_squared_error(y_test,mnb.predict(x_test))))\n",
        "#print('Log_Loss:', metrics.log_loss(y_test,mnb.predict(x_test)))\n",
        "print('Cohen_Kappa_Score:', cohen_kappa_score(y_test, mnb.predict(x_test)))\n",
        "\n",
        "print()\n",
        "print()\n",
        "name = ['Multinomial Naive Bayes']\n",
        "col_value = ['#95a5a6']\n",
        "model_accuracy = pd.Series(data=[var1], index=[name[0]])\n",
        "fig = plt.figure(figsize=(5,5))\n",
        "width = 0.75 \n",
        "model_accuracy.sort_values().plot.bar(alpha=0.8, color=[col_value[0]])\n",
        "plt.xticks(rotation=0)\n",
        "plt.title('Model Accracy')\n",
        "plt.ylabel('Accuracy (%)')\n",
        "plt.show()\n",
        "print()\n",
        "print()"
      ],
      "execution_count": null,
      "outputs": [
        {
          "output_type": "stream",
          "text": [
            "Confusion matrix of model is :\n",
            "[[25  3  7]\n",
            " [12 16  5]\n",
            " [16  6 10]]\n",
            "\n",
            "Classification Report : \n",
            "              precision    recall  f1-score   support\n",
            "\n",
            "           0       0.47      0.71      0.57        35\n",
            "           1       0.64      0.48      0.55        33\n",
            "           2       0.45      0.31      0.37        32\n",
            "\n",
            "    accuracy                           0.51       100\n",
            "   macro avg       0.52      0.50      0.50       100\n",
            "weighted avg       0.52      0.51      0.50       100\n",
            "\n",
            "\n",
            "Testing accuracy :  73.21428571428571\n",
            "Sensitivity :  0.6756756756756757\n",
            "Specificity :  0.8421052631578947\n",
            "false positive rate :  0.15789473684210525\n",
            "false negative rate :  0.32432432432432434\n",
            "Negative Predictive Value :  0.5714285714285714\n",
            "False Discovery rate :  0.10714285714285714\n",
            "Mean Absolute Error: 0.72\n",
            "Mean Squared Error: 1.18\n",
            "Root Mean Squared Error: 1.0862780491200215\n",
            "Cohen_Kappa_Score: 0.25937122128174117\n",
            "\n",
            "\n"
          ],
          "name": "stdout"
        },
        {
          "output_type": "display_data",
          "data": {
            "image/png": "[encoded data removed]",
            "text/plain": [
              "<Figure size 360x360 with 1 Axes>"
            ]
          },
          "metadata": {
            "tags": [],
            "needs_background": "light"
          }
        },
        {
          "output_type": "stream",
          "text": [
            "\n",
            "\n"
          ],
          "name": "stdout"
        }
      ]
    },
    {
      "cell_type": "code",
      "metadata": {
        "colab": {
          "base_uri": "https://localhost:8080/",
          "height": 880
        },
        "id": "nl--fkW6uK4G",
        "outputId": "ad58057b-5370-4a20-855d-a77626e547ef"
      },
      "source": [
        "from sklearn.ensemble import RandomForestClassifier\n",
        "rmfr = RandomForestClassifier()\n",
        "rmfr.fit(x_train,y_train)\n",
        "print('Confusion matrix of model is :')\n",
        "cm = confusion_matrix(y_test,rmfr.predict(x_test))\n",
        "TP = cm[0][0]\n",
        "TN = cm[1][1]\n",
        "FP = cm[0][1]\n",
        "FN = cm[1][0]\n",
        "print(cm)\n",
        "print()\n",
        "result1 = classification_report(y_test, rmfr.predict(x_test))\n",
        "print(\"Classification Report : \",)\n",
        "print (result1)\n",
        "print()\n",
        "var2 = ((TP + TN)/(TP + TN + FP + FN)) *100\n",
        "print('Testing accuracy : ',var2)\n",
        "print('Sensitivity : ', TP/(TP+FN))\n",
        "print('Specificity : ', TN/(TN+FP))\n",
        "print('false positive rate : ', FP/(FP+TN))\n",
        "print('false negative rate : ', FN/(FN+TP))\n",
        "print('Negative Predictive Value : ', TN/(TN+FN))\n",
        "print('False Discovery rate : ', FP/(TP+FP))\n",
        "print('Mean Absolute Error:', metrics.mean_absolute_error(y_test,rmfr.predict(x_test)))\n",
        "print('Mean Squared Error:', metrics.mean_squared_error(y_test, rmfr.predict(x_test)))\n",
        "print('Root Mean Squared Error:', np.sqrt(metrics.mean_squared_error(y_test,rmfr.predict(x_test))))\n",
        "#print('Log_Loss:', metrics.log_loss(y_test,rmfr.predict(x_test)))\n",
        "print('Cohen_Kappa_Score:', cohen_kappa_score(y_test, rmfr.predict(x_test)))\n",
        "\n",
        "print()\n",
        "print()\n",
        "name = ['RandomForest']\n",
        "col_value = ['red']\n",
        "model_accuracy = pd.Series(data=[var2], index=[name[0]])\n",
        "fig = plt.figure(figsize=(5,5))\n",
        "width = 0.75 \n",
        "model_accuracy.sort_values().plot.bar(alpha=0.8, color=[col_value[0]])\n",
        "plt.xticks(rotation=0)\n",
        "plt.title('Model Accracy')\n",
        "plt.ylabel('Accuracy (%)')\n",
        "plt.show()\n",
        "print()\n",
        "print()"
      ],
      "execution_count": null,
      "outputs": [
        {
          "output_type": "stream",
          "text": [
            "Confusion matrix of model is :\n",
            "[[22  7  6]\n",
            " [11 19  3]\n",
            " [18  5  9]]\n",
            "\n",
            "Classification Report : \n",
            "              precision    recall  f1-score   support\n",
            "\n",
            "           0       0.43      0.63      0.51        35\n",
            "           1       0.61      0.58      0.59        33\n",
            "           2       0.50      0.28      0.36        32\n",
            "\n",
            "    accuracy                           0.50       100\n",
            "   macro avg       0.51      0.50      0.49       100\n",
            "weighted avg       0.51      0.50      0.49       100\n",
            "\n",
            "\n",
            "Testing accuracy :  69.49152542372882\n",
            "Sensitivity :  0.6666666666666666\n",
            "Specificity :  0.7307692307692307\n",
            "false positive rate :  0.2692307692307692\n",
            "false negative rate :  0.3333333333333333\n",
            "Negative Predictive Value :  0.6333333333333333\n",
            "False Discovery rate :  0.2413793103448276\n",
            "Mean Absolute Error: 0.74\n",
            "Mean Squared Error: 1.22\n",
            "Root Mean Squared Error: 1.104536101718726\n",
            "Cohen_Kappa_Score: 0.24425634824667464\n",
            "\n",
            "\n"
          ],
          "name": "stdout"
        },
        {
          "output_type": "display_data",
          "data": {
            "image/png": "[encoded data removed]",
            "text/plain": [
              "<Figure size 360x360 with 1 Axes>"
            ]
          },
          "metadata": {
            "tags": [],
            "needs_background": "light"
          }
        },
        {
          "output_type": "stream",
          "text": [
            "\n",
            "\n"
          ],
          "name": "stdout"
        }
      ]
    },
    {
      "cell_type": "code",
      "metadata": {
        "colab": {
          "base_uri": "https://localhost:8080/",
          "height": 880
        },
        "id": "7CEcYAhKub8o",
        "outputId": "58570a8c-fd91-40c7-e378-445c77405b85"
      },
      "source": [
        "from sklearn.tree import DecisionTreeClassifier\n",
        "dt = DecisionTreeClassifier()\n",
        "dt.fit(x_train,y_train)\n",
        "print('Confusion matrix of model is :')\n",
        "cm = confusion_matrix(y_test,dt.predict(x_test))\n",
        "TP = cm[0][0]\n",
        "TN = cm[1][1]\n",
        "FP = cm[0][1]\n",
        "FN = cm[1][0]\n",
        "print(cm)\n",
        "print()\n",
        "result1 = classification_report(y_test, dt.predict(x_test))\n",
        "print(\"Classification Report : \",)\n",
        "print (result1)\n",
        "print()\n",
        "var3 = ((TP + TN)/(TP + TN + FP + FN)) *100\n",
        "print('Testing accuracy : ',var3)\n",
        "print('Sensitivity : ', TP/(TP+FN))\n",
        "print('Specificity : ', TN/(TN+FP))\n",
        "print('false positive rate : ', FP/(FP+TN))\n",
        "print('false negative rate : ', FN/(FN+TP))\n",
        "print('Negative Predictive Value : ', TN/(TN+FN))\n",
        "print('False Discovery rate : ', FP/(TP+FP))\n",
        "print('Mean Absolute Error:', metrics.mean_absolute_error(y_test,dt.predict(x_test)))\n",
        "print('Mean Squared Error:', metrics.mean_squared_error(y_test, dt.predict(x_test)))\n",
        "print('Root Mean Squared Error:', np.sqrt(metrics.mean_squared_error(y_test,dt.predict(x_test))))\n",
        "#print('Log_Loss:', metrics.log_loss(y_test,dt.predict(x_test)))\n",
        "print('Cohen_Kappa_Score:', cohen_kappa_score(y_test, dt.predict(x_test)))\n",
        "\n",
        "print()\n",
        "print()\n",
        "name = ['DecisionTree']\n",
        "col_value = ['#9b59b6']\n",
        "model_accuracy = pd.Series(data=[var3], index=[name[0]])\n",
        "fig = plt.figure(figsize=(5,5))\n",
        "width = 0.75 \n",
        "model_accuracy.sort_values().plot.bar(alpha=0.8, color=[col_value[0]])\n",
        "plt.xticks(rotation=0)\n",
        "plt.title('Model Accracy')\n",
        "plt.ylabel('Accuracy (%)')\n",
        "plt.show()\n",
        "print()\n",
        "print()"
      ],
      "execution_count": null,
      "outputs": [
        {
          "output_type": "stream",
          "text": [
            "Confusion matrix of model is :\n",
            "[[20  7  8]\n",
            " [10 12 11]\n",
            " [20  4  8]]\n",
            "\n",
            "Classification Report : \n",
            "              precision    recall  f1-score   support\n",
            "\n",
            "           0       0.40      0.57      0.47        35\n",
            "           1       0.52      0.36      0.43        33\n",
            "           2       0.30      0.25      0.27        32\n",
            "\n",
            "    accuracy                           0.40       100\n",
            "   macro avg       0.41      0.40      0.39       100\n",
            "weighted avg       0.41      0.40      0.39       100\n",
            "\n",
            "\n",
            "Testing accuracy :  65.3061224489796\n",
            "Sensitivity :  0.6666666666666666\n",
            "Specificity :  0.631578947368421\n",
            "false positive rate :  0.3684210526315789\n",
            "false negative rate :  0.3333333333333333\n",
            "Negative Predictive Value :  0.5454545454545454\n",
            "False Discovery rate :  0.25925925925925924\n",
            "Mean Absolute Error: 0.88\n",
            "Mean Squared Error: 1.44\n",
            "Root Mean Squared Error: 1.2\n",
            "Cohen_Kappa_Score: 0.09461294703485734\n",
            "\n",
            "\n"
          ],
          "name": "stdout"
        },
        {
          "output_type": "display_data",
          "data": {
            "image/png": "[encoded data removed]",
            "text/plain": [
              "<Figure size 360x360 with 1 Axes>"
            ]
          },
          "metadata": {
            "tags": [],
            "needs_background": "light"
          }
        },
        {
          "output_type": "stream",
          "text": [
            "\n",
            "\n"
          ],
          "name": "stdout"
        }
      ]
    },
    {
      "cell_type": "code",
      "metadata": {
        "colab": {
          "base_uri": "https://localhost:8080/",
          "height": 880
        },
        "id": "8jFSGpZxucBm",
        "outputId": "7dc9ff72-43bd-427f-90e6-7a50d2ef679e"
      },
      "source": [
        "from sklearn.svm import SVC\n",
        "import pickle\n",
        "svm = SVC()\n",
        "svm.fit(x_train,y_train)\n",
        "print('Confusion matrix of model is :')\n",
        "cm = confusion_matrix(y_test,svm.predict(x_test))\n",
        "TP = cm[0][0]\n",
        "TN = cm[1][1]\n",
        "FP = cm[0][1]\n",
        "FN = cm[1][0]\n",
        "print(cm)\n",
        "print()\n",
        "result1 = classification_report(y_test, svm.predict(x_test))\n",
        "print(\"Classification Report : \",)\n",
        "print (result1)\n",
        "print()\n",
        "var4 = ((TP + TN)/(TP + TN + FP + FN)) *100\n",
        "print('Testing accuracy : ',var4)\n",
        "print('Sensitivity : ', TP/(TP+FN))\n",
        "print('Specificity : ', TN/(TN+FP))\n",
        "print('false positive rate : ', FP/(FP+TN))\n",
        "print('false negative rate : ', FN/(FN+TP))\n",
        "print('Negative Predictive Value : ', TN/(TN+FN))\n",
        "print('False Discovery rate : ', FP/(TP+FP))\n",
        "print('Mean Absolute Error:', metrics.mean_absolute_error(y_test,svm.predict(x_test)))\n",
        "print('Mean Squared Error:', metrics.mean_squared_error(y_test, svm.predict(x_test)))\n",
        "print('Root Mean Squared Error:', np.sqrt(metrics.mean_squared_error(y_test,svm.predict(x_test))))\n",
        "#print('Log_Loss:', metrics.log_loss(y_test,svm.predict(x_test)))\n",
        "print('Cohen_Kappa_Score:', cohen_kappa_score(y_test, svm.predict(x_test)))\n",
        "\n",
        "print()\n",
        "print()\n",
        "name = ['Support Vector Clasiffier']\n",
        "col_value = ['blue']\n",
        "model_accuracy = pd.Series(data=[var4], index=[name[0]])\n",
        "fig = plt.figure(figsize=(5,5))\n",
        "width = 0.75 \n",
        "model_accuracy.sort_values().plot.bar(alpha=0.8, color=[col_value[0]])\n",
        "plt.xticks(rotation=0)\n",
        "plt.title('Model Accracy')\n",
        "plt.ylabel('Accuracy (%)')\n",
        "plt.show()\n",
        "print()\n",
        "print()"
      ],
      "execution_count": null,
      "outputs": [
        {
          "output_type": "stream",
          "text": [
            "Confusion matrix of model is :\n",
            "[[23  5  7]\n",
            " [12 18  3]\n",
            " [14  7 11]]\n",
            "\n",
            "Classification Report : \n",
            "              precision    recall  f1-score   support\n",
            "\n",
            "           0       0.47      0.66      0.55        35\n",
            "           1       0.60      0.55      0.57        33\n",
            "           2       0.52      0.34      0.42        32\n",
            "\n",
            "    accuracy                           0.52       100\n",
            "   macro avg       0.53      0.52      0.51       100\n",
            "weighted avg       0.53      0.52      0.51       100\n",
            "\n",
            "\n",
            "Testing accuracy :  70.6896551724138\n",
            "Sensitivity :  0.6571428571428571\n",
            "Specificity :  0.782608695652174\n",
            "false positive rate :  0.21739130434782608\n",
            "false negative rate :  0.34285714285714286\n",
            "Negative Predictive Value :  0.6\n",
            "False Discovery rate :  0.17857142857142858\n",
            "Mean Absolute Error: 0.69\n",
            "Mean Squared Error: 1.11\n",
            "Root Mean Squared Error: 1.0535653752852738\n",
            "Cohen_Kappa_Score: 0.27525290653782275\n",
            "\n",
            "\n"
          ],
          "name": "stdout"
        },
        {
          "output_type": "display_data",
          "data": {
            "image/png": "[encoded data removed]",
            "text/plain": [
              "<Figure size 360x360 with 1 Axes>"
            ]
          },
          "metadata": {
            "tags": [],
            "needs_background": "light"
          }
        },
        {
          "output_type": "stream",
          "text": [
            "\n",
            "\n"
          ],
          "name": "stdout"
        }
      ]
    },
    {
      "cell_type": "code",
      "metadata": {
        "colab": {
          "base_uri": "https://localhost:8080/",
          "height": 880
        },
        "id": "GskQ9RMVucGb",
        "outputId": "e15fee15-2c8c-4304-9469-872b229088a1"
      },
      "source": [
        "from sklearn.neighbors import KNeighborsClassifier\n",
        "knn = KNeighborsClassifier(n_neighbors=10)\n",
        "knn.fit(x_train,y_train)\n",
        "print('Confusion matrix of model is :')\n",
        "cm = confusion_matrix(y_test,knn.predict(x_test))\n",
        "TP = cm[0][0]\n",
        "TN = cm[1][1]\n",
        "FP = cm[0][1]\n",
        "FN = cm[1][0]\n",
        "print(cm)\n",
        "print()\n",
        "result1 = classification_report(y_test, knn.predict(x_test))\n",
        "print(\"Classification Report : \",)\n",
        "print (result1)\n",
        "print()\n",
        "var5 = ((TP + TN)/(TP + TN + FP + FN)) *100\n",
        "print('Testing accuracy : ',var5)\n",
        "print('Sensitivity : ', TP/(TP+FN))\n",
        "print('Specificity : ', TN/(TN+FP))\n",
        "print('false positive rate : ', FP/(FP+TN))\n",
        "print('false negative rate : ', FN/(FN+TP))\n",
        "print('Negative Predictive Value : ', TN/(TN+FN))\n",
        "print('False Discovery rate : ', FP/(TP+FP))\n",
        "print('Mean Absolute Error:', metrics.mean_absolute_error(y_test,knn.predict(x_test)))\n",
        "print('Mean Squared Error:', metrics.mean_squared_error(y_test, knn.predict(x_test)))\n",
        "print('Root Mean Squared Error:', np.sqrt(metrics.mean_squared_error(y_test,knn.predict(x_test))))\n",
        "#print('Log_Loss:', metrics.log_loss(y_test,knn.predict(x_test)))\n",
        "print('Cohen_Kappa_Score:', cohen_kappa_score(y_test, knn.predict(x_test)))\n",
        "\n",
        "print()\n",
        "print()\n",
        "name = ['K-NN']\n",
        "col_value = ['#7fcdbb']\n",
        "model_accuracy = pd.Series(data=[var5], index=[name[0]])\n",
        "fig = plt.figure(figsize=(5,5))\n",
        "width = 0.75 \n",
        "model_accuracy.sort_values().plot.bar(alpha=0.8, color=[col_value[0]])\n",
        "plt.xticks(rotation=0)\n",
        "plt.title('Model Accracy')\n",
        "plt.ylabel('Accuracy (%)')\n",
        "plt.show()\n",
        "print()\n",
        "print()"
      ],
      "execution_count": null,
      "outputs": [
        {
          "output_type": "stream",
          "text": [
            "Confusion matrix of model is :\n",
            "[[29  4  2]\n",
            " [21  6  6]\n",
            " [23  6  3]]\n",
            "\n",
            "Classification Report : \n",
            "              precision    recall  f1-score   support\n",
            "\n",
            "           0       0.40      0.83      0.54        35\n",
            "           1       0.38      0.18      0.24        33\n",
            "           2       0.27      0.09      0.14        32\n",
            "\n",
            "    accuracy                           0.38       100\n",
            "   macro avg       0.35      0.37      0.31       100\n",
            "weighted avg       0.35      0.38      0.31       100\n",
            "\n",
            "\n",
            "Testing accuracy :  58.333333333333336\n",
            "Sensitivity :  0.58\n",
            "Specificity :  0.6\n",
            "false positive rate :  0.4\n",
            "false negative rate :  0.42\n",
            "Negative Predictive Value :  0.2222222222222222\n",
            "False Discovery rate :  0.12121212121212122\n",
            "Mean Absolute Error: 0.87\n",
            "Mean Squared Error: 1.37\n",
            "Root Mean Squared Error: 1.1704699910719625\n",
            "Cohen_Kappa_Score: 0.05559786747905571\n",
            "\n",
            "\n"
          ],
          "name": "stdout"
        },
        {
          "output_type": "display_data",
          "data": {
            "image/png": "[encoded data removed]",
            "text/plain": [
              "<Figure size 360x360 with 1 Axes>"
            ]
          },
          "metadata": {
            "tags": [],
            "needs_background": "light"
          }
        },
        {
          "output_type": "stream",
          "text": [
            "\n",
            "\n"
          ],
          "name": "stdout"
        }
      ]
    },
    {
      "cell_type": "code",
      "metadata": {
        "id": "35_9s6LcupvT",
        "colab": {
          "base_uri": "https://localhost:8080/",
          "height": 880
        },
        "outputId": "288434cb-a3cd-4f52-dbdb-d72122f33ed7"
      },
      "source": [
        "from sklearn.linear_model import LogisticRegression\n",
        "l = LogisticRegression()\n",
        "l.fit(x_train,y_train)\n",
        "logi=l.score(x_test,  y_test)\n",
        "print('Confusion matrix of model',i , 'is :')\n",
        "cm = confusion_matrix(y_test,l.predict(x_test))\n",
        "TP = cm[0][0]\n",
        "TN = cm[1][1]\n",
        "FP = cm[0][1]\n",
        "FN = cm[1][0]\n",
        "print(cm)\n",
        "print()\n",
        "result1 = classification_report(y_test, l.predict(x_test))\n",
        "print(\"Classification Report : \",)\n",
        "print (result1)\n",
        "print()\n",
        "var6 = ((TP + TN)/(TP + TN + FP + FN)) *100\n",
        "print('Testing accuracy : ',var6)\n",
        "print('Sensitivity : ', TP/(TP+FN))\n",
        "print('Specificity : ', TN/(TN+FP))\n",
        "print('false positive rate : ', FP/(FP+TN))\n",
        "print('false negative rate : ', FN/(FN+TP))\n",
        "print('Negative Predictive Value : ', TN/(TN+FN))\n",
        "print('False Discovery rate : ', FP/(TP+FP))\n",
        "print('Mean Absolute Error:', metrics.mean_absolute_error(y_test,l.predict(x_test)))\n",
        "print('Mean Squared Error:', metrics.mean_squared_error(y_test, l.predict(x_test)))\n",
        "print('Root Mean Squared Error:', np.sqrt(metrics.mean_squared_error(y_test,l.predict(x_test))))\n",
        "#print('Log_Loss:', metrics.log_loss(y_test,l.predict(x_test)))\n",
        "print('Cohen_Kappa_Score:', cohen_kappa_score(y_test, l.predict(x_test)))\n",
        "\n",
        "print()\n",
        "print()\n",
        "name = ['Logistic Regression']\n",
        "col_value = ['#2ecc71']\n",
        "model_accuracy = pd.Series(data=[var6], index=[name[0]])\n",
        "fig = plt.figure(figsize=(5,5))\n",
        "width = 0.75 \n",
        "model_accuracy.sort_values().plot.bar(alpha=0.8, color=[col_value[0]])\n",
        "plt.xticks(rotation=0)\n",
        "plt.title('Model Accracy')\n",
        "plt.ylabel('Accuracy (%)')\n",
        "plt.show()\n",
        "print()\n",
        "print()"
      ],
      "execution_count": null,
      "outputs": [
        {
          "output_type": "stream",
          "text": [
            "Confusion matrix of model 4 is :\n",
            "[[23  6  6]\n",
            " [ 9 17  7]\n",
            " [19  4  9]]\n",
            "\n",
            "Classification Report : \n",
            "              precision    recall  f1-score   support\n",
            "\n",
            "           0       0.45      0.66      0.53        35\n",
            "           1       0.63      0.52      0.57        33\n",
            "           2       0.41      0.28      0.33        32\n",
            "\n",
            "    accuracy                           0.49       100\n",
            "   macro avg       0.50      0.48      0.48       100\n",
            "weighted avg       0.50      0.49      0.48       100\n",
            "\n",
            "\n",
            "Testing accuracy :  72.72727272727273\n",
            "Sensitivity :  0.71875\n",
            "Specificity :  0.7391304347826086\n",
            "false positive rate :  0.2608695652173913\n",
            "false negative rate :  0.28125\n",
            "Negative Predictive Value :  0.6538461538461539\n",
            "False Discovery rate :  0.20689655172413793\n",
            "Mean Absolute Error: 0.76\n",
            "Mean Squared Error: 1.26\n",
            "Root Mean Squared Error: 1.1224972160321824\n",
            "Cohen_Kappa_Score: 0.22960725075528687\n",
            "\n",
            "\n"
          ],
          "name": "stdout"
        },
        {
          "output_type": "display_data",
          "data": {
            "image/png": "[encoded data removed]",
            "text/plain": [
              "<Figure size 360x360 with 1 Axes>"
            ]
          },
          "metadata": {
            "tags": [],
            "needs_background": "light"
          }
        },
        {
          "output_type": "stream",
          "text": [
            "\n",
            "\n"
          ],
          "name": "stdout"
        }
      ]
    },
    {
      "cell_type": "code",
      "metadata": {
        "colab": {
          "base_uri": "https://localhost:8080/",
          "height": 452
        },
        "id": "58BgUZ6Fu4Lt",
        "outputId": "8c13effa-c8ca-484b-cf4b-a2e44ba965df"
      },
      "source": [
        "import matplotlib.pyplot as plt; plt.rcdefaults()\n",
        "import numpy as np\n",
        "import matplotlib.pyplot as plt\n",
        " \n",
        "objects = ('MNB','RF','DT','SVC','KNN','LN')\n",
        "y_pos = np.arange(len(objects))\n",
        "performance = [var1,var2,var3,var4,var5,var6]\n",
        " \n",
        "plt.bar(y_pos, performance, align='center', alpha=0.9)\n",
        "plt.xticks(y_pos, objects)\n",
        "plt.ylabel('Accuracy')\n",
        "plt.title('Best Accuracy')\n",
        "\n",
        "plt.show()"
      ],
      "execution_count": null,
      "outputs": [
        {
          "output_type": "display_data",
          "data": {
            "image/png": "[encoded data removed]",
            "text/plain": [
              "<Figure size 640x480 with 1 Axes>"
            ]
          },
          "metadata": {
            "tags": []
          }
        }
      ]
    },
    {
      "cell_type": "code",
      "metadata": {
        "colab": {
          "base_uri": "https://localhost:8080/"
        },
        "id": "7L839Q11pvUC",
        "outputId": "d34767d7-3e7d-4725-80c9-f83e45f8c27e"
      },
      "source": [
        "news=input()\n",
        "prt=vocab.transform([news])\n",
        "\n",
        "m1=mnb.predict(prt)\n",
        "print(\"MNV Predicted Rating:\",m1)\n",
        "if m1==0:\n",
        "  print(\"Positive\")\n",
        "elif m1==1:\n",
        "  print(\"Negative\")\n",
        "else:\n",
        "  print(\"Neutral\")\n",
        "\n",
        "m2=rmfr.predict(prt)\n",
        "print(\"RF Predicted Rating:\",m2)\n",
        "if m2==0:\n",
        "  print(\"Positive\")\n",
        "elif m2==1:\n",
        "  print(\"Negative\")\n",
        "else:\n",
        "  print(\"Neutral\")\n",
        "\n",
        "\n",
        "m3=dt.predict(prt)\n",
        "print(\"DT Predicted Rating:\",m3)\n",
        "if m3==0:\n",
        "  print(\"Positive\")\n",
        "elif m3==1:\n",
        "  print(\"Negative\")\n",
        "else:\n",
        "  print(\"Neutral\")\n",
        "\n",
        "\n",
        "m4=svm.predict(prt)\n",
        "print(\"SVM Predicted Rating:\",m4)\n",
        "if m4==0:\n",
        "  print(\"Positive\")\n",
        "elif m4==1:\n",
        "  print(\"Negative\")\n",
        "else:\n",
        "  print(\"Neutral\")\n",
        "\n",
        "\n",
        "m5=knn.predict(prt)\n",
        "print(\"KNN Predicted Rating:\",m5)\n",
        "if m5==0:\n",
        "  print(\"Positive\")\n",
        "elif m5==1:\n",
        "  print(\"Negative\")\n",
        "else:\n",
        "  print(\"Neutral\")\n",
        "\n",
        "\n",
        "m6=l.predict(prt)\n",
        "print(\"Logistic Predicted Rating:\",m6)\n",
        "if m6==0:\n",
        "  print(\"Positive\")\n",
        "elif m6==1:\n",
        "  print(\"Negative\")\n",
        "else:\n",
        "  print(\"Neutral\")\n"
      ],
      "execution_count": null,
      "outputs": [
        {
          "output_type": "stream",
          "text": [
            "মানুষের আচরণ বৈচিত্র্যপূর্ণ।\n",
            "MNV Predicted Rating: [2]\n",
            "Neutral\n",
            "RF Predicted Rating: [2]\n",
            "Neutral\n",
            "DT Predicted Rating: [2]\n",
            "Neutral\n",
            "SVM Predicted Rating: [1]\n",
            "Negative\n",
            "KNN Predicted Rating: [2]\n",
            "Neutral\n",
            "Logistic Predicted Rating: [1]\n",
            "Negative\n"
          ],
          "name": "stdout"
        }
      ]
    }
  ]
}